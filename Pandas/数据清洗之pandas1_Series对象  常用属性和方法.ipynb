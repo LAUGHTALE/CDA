{
 "cells": [
  {
   "cell_type": "markdown",
   "metadata": {
    "toc": true
   },
   "source": [
    "<h1>Table of Contents<span class=\"tocSkip\"></span></h1>\n",
    "<div class=\"toc\"><ul class=\"toc-item\"><li><span><a href=\"#pandas简介\" data-toc-modified-id=\"pandas简介-1\"><span class=\"toc-item-num\">1&nbsp;&nbsp;</span>pandas简介</a></span></li><li><span><a href=\"#Series对象\" data-toc-modified-id=\"Series对象-2\"><span class=\"toc-item-num\">2&nbsp;&nbsp;</span>Series对象</a></span><ul class=\"toc-item\"><li><span><a href=\"#什么是Series对象\" data-toc-modified-id=\"什么是Series对象-2.1\"><span class=\"toc-item-num\">2.1&nbsp;&nbsp;</span>什么是Series对象</a></span></li><li><span><a href=\"#Series对象的创建\" data-toc-modified-id=\"Series对象的创建-2.2\"><span class=\"toc-item-num\">2.2&nbsp;&nbsp;</span>Series对象的创建</a></span><ul class=\"toc-item\"><li><span><a href=\"#pd.Series(data,-index)\" data-toc-modified-id=\"pd.Series(data,-index)-2.2.1\"><span class=\"toc-item-num\">2.2.1&nbsp;&nbsp;</span>pd.Series(data, index)</a></span></li></ul></li><li><span><a href=\"#Series对象的常用属性\" data-toc-modified-id=\"Series对象的常用属性-2.3\"><span class=\"toc-item-num\">2.3&nbsp;&nbsp;</span>Series对象的常用属性</a></span><ul class=\"toc-item\"><li><span><a href=\"#ser.index\" data-toc-modified-id=\"ser.index-2.3.1\"><span class=\"toc-item-num\">2.3.1&nbsp;&nbsp;</span>ser.index</a></span></li><li><span><a href=\"#ser.index\" data-toc-modified-id=\"ser.index-2.3.2\"><span class=\"toc-item-num\">2.3.2&nbsp;&nbsp;</span>ser.index</a></span></li><li><span><a href=\"#ser.size\" data-toc-modified-id=\"ser.size-2.3.3\"><span class=\"toc-item-num\">2.3.3&nbsp;&nbsp;</span>ser.size</a></span></li></ul></li><li><span><a href=\"#Series对象常用的一些方法\" data-toc-modified-id=\"Series对象常用的一些方法-2.4\"><span class=\"toc-item-num\">2.4&nbsp;&nbsp;</span>Series对象常用的一些方法</a></span><ul class=\"toc-item\"><li><span><a href=\"#ser.value_counts()\" data-toc-modified-id=\"ser.value_counts()-2.4.1\"><span class=\"toc-item-num\">2.4.1&nbsp;&nbsp;</span>ser.value_counts()</a></span></li><li><span><a href=\"#ser.isnull()\" data-toc-modified-id=\"ser.isnull()-2.4.2\"><span class=\"toc-item-num\">2.4.2&nbsp;&nbsp;</span>ser.isnull()</a></span></li></ul></li><li><span><a href=\"#Series对象的切片和索引\" data-toc-modified-id=\"Series对象的切片和索引-2.5\"><span class=\"toc-item-num\">2.5&nbsp;&nbsp;</span>Series对象的切片和索引</a></span><ul class=\"toc-item\"><li><span><a href=\"#隐式索引和切片\" data-toc-modified-id=\"隐式索引和切片-2.5.1\"><span class=\"toc-item-num\">2.5.1&nbsp;&nbsp;</span>隐式索引和切片</a></span></li><li><span><a href=\"#显示索引和切片\" data-toc-modified-id=\"显示索引和切片-2.5.2\"><span class=\"toc-item-num\">2.5.2&nbsp;&nbsp;</span>显示索引和切片</a></span></li></ul></li></ul></li></ul></div>"
   ]
  },
  {
   "cell_type": "code",
   "execution_count": 218,
   "metadata": {},
   "outputs": [],
   "source": [
    "#全部行都能输出\n",
    "from IPython.core.interactiveshell import InteractiveShell\n",
    "InteractiveShell.ast_node_interactivity = \"all\""
   ]
  },
  {
   "cell_type": "markdown",
   "metadata": {},
   "source": [
    "# pandas简介"
   ]
  },
  {
   "cell_type": "markdown",
   "metadata": {},
   "source": [
    "Pandas是一个强大的分析结构化数据的工具集；\n",
    "\n",
    "(Pandas 纳入了大量库和一些标准的数据模型，提供了高效地操作大型数据集所需的函数和方法，能够快速便捷地处理数据)\n",
    "\n",
    "它的使用基础是Numpy（提供高性能的矩阵运算）；\n",
    "\n",
    "用于数据挖掘和数据分析，同时也提供数据清洗功能\n",
    "\n",
    "numpy中是用ndarray对象， 在pandas中是Series对象和DataFrame对象。"
   ]
  },
  {
   "cell_type": "markdown",
   "metadata": {},
   "source": [
    "引用习惯如下：  "
   ]
  },
  {
   "cell_type": "code",
   "execution_count": 219,
   "metadata": {},
   "outputs": [],
   "source": [
    "import numpy as np\n",
    "import pandas as pd"
   ]
  },
  {
   "cell_type": "markdown",
   "metadata": {},
   "source": [
    "# Series对象"
   ]
  },
  {
   "cell_type": "markdown",
   "metadata": {},
   "source": [
    "## 什么是Series对象"
   ]
  },
  {
   "cell_type": "markdown",
   "metadata": {},
   "source": [
    "Series是一种类似于一维数组的对象，是由一组数据(各种NumPy数据类型)以及一组与之相关的数据标签(即索引)组成。仅由一组数据也可产生简单的Series对象。  \n",
    "Series是Pandas包提供的一种Key-value型数据结构,其中Key为用户定义的显示index,每个显式index对应一个value值.\n",
    "\n",
    "它与Python列表的区别在于,Series的每个元素都带有两种index\n",
    "- 显示index : 由用户指定\n",
    "- 隐式index : 由系统自动分配(Series对象中每个元素的下标,类似Python\"列表\"的下标)\n",
    "\n",
    "Series的访问既可以通过显示index,也可以通过隐式index,\n",
    "\n",
    "在数据分析和数据科学项目中,一般用显式索引(index),而不是隐式下标,原因在于:当数据量很大时,很难准确定义其下标"
   ]
  },
  {
   "cell_type": "markdown",
   "metadata": {},
   "source": [
    "## Series对象的创建"
   ]
  },
  {
   "cell_type": "markdown",
   "metadata": {},
   "source": [
    "### pd.Series(data, index)  \n",
    "可以直接将ndarray对象 列表 元祖 字典等对象转化为Series对象"
   ]
  },
  {
   "cell_type": "code",
   "execution_count": 220,
   "metadata": {},
   "outputs": [
    {
     "data": {
      "text/plain": [
       "array([1, 1, 1, 1, 1])"
      ]
     },
     "execution_count": 220,
     "metadata": {},
     "output_type": "execute_result"
    }
   ],
   "source": [
    "a = np.array([1, 1, 1, 1, 1])\n",
    "a"
   ]
  },
  {
   "cell_type": "code",
   "execution_count": 221,
   "metadata": {},
   "outputs": [
    {
     "data": {
      "text/plain": [
       "0    1\n",
       "1    1\n",
       "2    1\n",
       "3    1\n",
       "4    1\n",
       "dtype: int32"
      ]
     },
     "execution_count": 221,
     "metadata": {},
     "output_type": "execute_result"
    }
   ],
   "source": [
    "pd.Series(a)  # 每一个元素有了一个索引， 这种索引是pandas自动分配的， 成为隐式索引"
   ]
  },
  {
   "cell_type": "code",
   "execution_count": 222,
   "metadata": {},
   "outputs": [
    {
     "data": {
      "text/plain": [
       "0    1\n",
       "1    2\n",
       "2    5\n",
       "3    6\n",
       "4    0\n",
       "dtype: int64"
      ]
     },
     "execution_count": 222,
     "metadata": {},
     "output_type": "execute_result"
    }
   ],
   "source": [
    "pd.Series([1, 2, 5, 6, 0])"
   ]
  },
  {
   "cell_type": "code",
   "execution_count": 223,
   "metadata": {},
   "outputs": [
    {
     "data": {
      "text/plain": [
       "0    3\n",
       "1    4\n",
       "2    5\n",
       "3    6\n",
       "dtype: int64"
      ]
     },
     "execution_count": 223,
     "metadata": {},
     "output_type": "execute_result"
    }
   ],
   "source": [
    "pd.Series((3, 4, 5, 6))"
   ]
  },
  {
   "cell_type": "markdown",
   "metadata": {},
   "source": [
    "通过index参数来自己定义索引"
   ]
  },
  {
   "cell_type": "code",
   "execution_count": 224,
   "metadata": {},
   "outputs": [
    {
     "data": {
      "text/plain": [
       "张三    90\n",
       "李四    96\n",
       "王五    78\n",
       "dtype: int64"
      ]
     },
     "execution_count": 224,
     "metadata": {},
     "output_type": "execute_result"
    }
   ],
   "source": [
    "pd.Series([90, 96, 78], ['张三', '李四', '王五'])  # 第二参数是指定索引"
   ]
  },
  {
   "cell_type": "code",
   "execution_count": 225,
   "metadata": {},
   "outputs": [
    {
     "data": {
      "text/plain": [
       "{'1': 123, '2': 456, '3': '789'}"
      ]
     },
     "execution_count": 225,
     "metadata": {},
     "output_type": "execute_result"
    }
   ],
   "source": [
    "d = {'1':123, '2':456, '3':'789'}\n",
    "d"
   ]
  },
  {
   "cell_type": "code",
   "execution_count": 226,
   "metadata": {},
   "outputs": [
    {
     "data": {
      "text/plain": [
       "1    123\n",
       "2    456\n",
       "3    789\n",
       "dtype: object"
      ]
     },
     "execution_count": 226,
     "metadata": {},
     "output_type": "execute_result"
    }
   ],
   "source": [
    "pd.Series(d)  # 把字典的键作为索引"
   ]
  },
  {
   "cell_type": "markdown",
   "metadata": {},
   "source": [
    "## Series对象的常用属性"
   ]
  },
  {
   "cell_type": "code",
   "execution_count": 227,
   "metadata": {},
   "outputs": [
    {
     "data": {
      "text/plain": [
       "赵一    90.0\n",
       "赵二    89.0\n",
       "赵三    90.0\n",
       "赵四    71.0\n",
       "赵五    87.0\n",
       "赵六    87.0\n",
       "赵七    65.0\n",
       "赵八    60.0\n",
       "赵九     NaN\n",
       "dtype: float64"
      ]
     },
     "execution_count": 227,
     "metadata": {},
     "output_type": "execute_result"
    }
   ],
   "source": [
    "ser = pd.Series([90, 89, 90, 71, 87, 87, 65, 60, np.nan],   # 有一个缺失值\n",
    "               ['赵一', '赵二', '赵三', '赵四', '赵五', '赵六', '赵七', '赵八', '赵九'])\n",
    "ser"
   ]
  },
  {
   "cell_type": "markdown",
   "metadata": {},
   "source": [
    "### ser.index \n",
    "返回Series对象的值, 返回的是一个一维的ndarray"
   ]
  },
  {
   "cell_type": "code",
   "execution_count": 228,
   "metadata": {},
   "outputs": [
    {
     "data": {
      "text/plain": [
       "array([90., 89., 90., 71., 87., 87., 65., 60., nan])"
      ]
     },
     "execution_count": 228,
     "metadata": {},
     "output_type": "execute_result"
    }
   ],
   "source": [
    "ser.values"
   ]
  },
  {
   "cell_type": "markdown",
   "metadata": {},
   "source": [
    "### ser.index\n",
    "返回Series对象的索引, 返回的是一个一维的ndarray"
   ]
  },
  {
   "cell_type": "code",
   "execution_count": 229,
   "metadata": {},
   "outputs": [
    {
     "data": {
      "text/plain": [
       "Index(['赵一', '赵二', '赵三', '赵四', '赵五', '赵六', '赵七', '赵八', '赵九'], dtype='object')"
      ]
     },
     "execution_count": 229,
     "metadata": {},
     "output_type": "execute_result"
    }
   ],
   "source": [
    "ser.index"
   ]
  },
  {
   "cell_type": "markdown",
   "metadata": {},
   "source": [
    "### ser.size  \n",
    "返回Series对象的行数"
   ]
  },
  {
   "cell_type": "code",
   "execution_count": 230,
   "metadata": {},
   "outputs": [
    {
     "data": {
      "text/plain": [
       "9"
      ]
     },
     "execution_count": 230,
     "metadata": {},
     "output_type": "execute_result"
    }
   ],
   "source": [
    "ser.size"
   ]
  },
  {
   "cell_type": "markdown",
   "metadata": {},
   "source": [
    "## Series对象常用的一些方法"
   ]
  },
  {
   "cell_type": "code",
   "execution_count": 231,
   "metadata": {},
   "outputs": [
    {
     "data": {
      "text/plain": [
       "赵一    90.0\n",
       "赵二    89.0\n",
       "赵三    90.0\n",
       "赵四    71.0\n",
       "赵五    87.0\n",
       "赵六    87.0\n",
       "赵七    65.0\n",
       "赵八    60.0\n",
       "赵九     NaN\n",
       "dtype: float64"
      ]
     },
     "execution_count": 231,
     "metadata": {},
     "output_type": "execute_result"
    }
   ],
   "source": [
    "ser = pd.Series([90, 89, 90, 71, 87, 87, 65, 60, np.nan],   # 有一个缺失值\n",
    "               ['赵一', '赵二', '赵三', '赵四', '赵五', '赵六', '赵七', '赵八', '赵九'])\n",
    "ser"
   ]
  },
  {
   "cell_type": "markdown",
   "metadata": {},
   "source": [
    "### ser.value_counts()  \n",
    "对值进行分类计数, 缺失值不计入"
   ]
  },
  {
   "cell_type": "code",
   "execution_count": 232,
   "metadata": {},
   "outputs": [
    {
     "data": {
      "text/plain": [
       "87.0    2\n",
       "90.0    2\n",
       "60.0    1\n",
       "65.0    1\n",
       "71.0    1\n",
       "89.0    1\n",
       "dtype: int64"
      ]
     },
     "execution_count": 232,
     "metadata": {},
     "output_type": "execute_result"
    }
   ],
   "source": [
    "ser.value_counts()"
   ]
  },
  {
   "cell_type": "code",
   "execution_count": 233,
   "metadata": {},
   "outputs": [
    {
     "data": {
      "text/plain": [
       "87.0    0.222222\n",
       "90.0    0.222222\n",
       "60.0    0.111111\n",
       "65.0    0.111111\n",
       "71.0    0.111111\n",
       "89.0    0.111111\n",
       "dtype: float64"
      ]
     },
     "execution_count": 233,
     "metadata": {},
     "output_type": "execute_result"
    }
   ],
   "source": [
    "ser.value_counts()/ser.size  # 每个类别所占的比例"
   ]
  },
  {
   "cell_type": "code",
   "execution_count": null,
   "metadata": {},
   "outputs": [],
   "source": []
  },
  {
   "cell_type": "markdown",
   "metadata": {},
   "source": [
    "### ser.isnull()  \n",
    "判断每一个值是否是缺失值"
   ]
  },
  {
   "cell_type": "code",
   "execution_count": 234,
   "metadata": {},
   "outputs": [
    {
     "data": {
      "text/plain": [
       "赵一    False\n",
       "赵二    False\n",
       "赵三    False\n",
       "赵四    False\n",
       "赵五    False\n",
       "赵六    False\n",
       "赵七    False\n",
       "赵八    False\n",
       "赵九     True\n",
       "dtype: bool"
      ]
     },
     "execution_count": 234,
     "metadata": {},
     "output_type": "execute_result"
    }
   ],
   "source": [
    "ser.isnull()"
   ]
  },
  {
   "cell_type": "markdown",
   "metadata": {},
   "source": [
    "可以通过这种方法查看缺失值的比例"
   ]
  },
  {
   "cell_type": "code",
   "execution_count": 235,
   "metadata": {},
   "outputs": [
    {
     "data": {
      "text/plain": [
       "赵一    False\n",
       "赵二    False\n",
       "赵三    False\n",
       "赵四    False\n",
       "赵五    False\n",
       "赵六    False\n",
       "赵七    False\n",
       "赵八    False\n",
       "赵九     True\n",
       "dtype: bool"
      ]
     },
     "execution_count": 235,
     "metadata": {},
     "output_type": "execute_result"
    }
   ],
   "source": [
    "ser.isnull()"
   ]
  },
  {
   "cell_type": "code",
   "execution_count": 236,
   "metadata": {},
   "outputs": [
    {
     "data": {
      "text/plain": [
       "1"
      ]
     },
     "execution_count": 236,
     "metadata": {},
     "output_type": "execute_result"
    }
   ],
   "source": [
    "ser.isnull().sum()  # 缺失值的个数"
   ]
  },
  {
   "cell_type": "code",
   "execution_count": 237,
   "metadata": {},
   "outputs": [
    {
     "data": {
      "text/plain": [
       "0.1111111111111111"
      ]
     },
     "execution_count": 237,
     "metadata": {},
     "output_type": "execute_result"
    }
   ],
   "source": [
    "ser.isnull().sum()/ser.size  # 缺失值的 比列"
   ]
  },
  {
   "cell_type": "code",
   "execution_count": null,
   "metadata": {},
   "outputs": [],
   "source": []
  },
  {
   "cell_type": "markdown",
   "metadata": {},
   "source": [
    "## Series对象的切片和索引"
   ]
  },
  {
   "cell_type": "code",
   "execution_count": 238,
   "metadata": {},
   "outputs": [
    {
     "data": {
      "text/plain": [
       "赵一    90.0\n",
       "赵二    89.0\n",
       "赵三    90.0\n",
       "赵四    71.0\n",
       "赵五    87.0\n",
       "赵六    87.0\n",
       "赵七    65.0\n",
       "赵八    60.0\n",
       "赵九     NaN\n",
       "dtype: float64"
      ]
     },
     "execution_count": 238,
     "metadata": {},
     "output_type": "execute_result"
    }
   ],
   "source": [
    "ser"
   ]
  },
  {
   "cell_type": "markdown",
   "metadata": {},
   "source": [
    "### 隐式索引和切片\n",
    "通过隐藏的行号来索引， 索引从0开始  \n",
    "ser[开始索引:终止位置:步长和方向]\n",
    "其中：  \n",
    "开始位置取得到, 终止位置取不到。  "
   ]
  },
  {
   "cell_type": "code",
   "execution_count": 239,
   "metadata": {},
   "outputs": [
    {
     "data": {
      "text/plain": [
       "90.0"
      ]
     },
     "execution_count": 239,
     "metadata": {},
     "output_type": "execute_result"
    }
   ],
   "source": [
    "ser[0]  # 取单行"
   ]
  },
  {
   "cell_type": "code",
   "execution_count": 240,
   "metadata": {},
   "outputs": [
    {
     "data": {
      "text/plain": [
       "60.0"
      ]
     },
     "execution_count": 240,
     "metadata": {},
     "output_type": "execute_result"
    }
   ],
   "source": [
    "ser[7]"
   ]
  },
  {
   "cell_type": "code",
   "execution_count": 241,
   "metadata": {},
   "outputs": [
    {
     "data": {
      "text/plain": [
       "nan"
      ]
     },
     "execution_count": 241,
     "metadata": {},
     "output_type": "execute_result"
    }
   ],
   "source": [
    "ser[-1]"
   ]
  },
  {
   "cell_type": "code",
   "execution_count": 242,
   "metadata": {},
   "outputs": [
    {
     "data": {
      "text/plain": [
       "赵一    90.0\n",
       "赵七    65.0\n",
       "赵五    87.0\n",
       "dtype: float64"
      ]
     },
     "execution_count": 242,
     "metadata": {},
     "output_type": "execute_result"
    }
   ],
   "source": [
    "ser[[0, 6, 4]]  # 指定取多行"
   ]
  },
  {
   "cell_type": "code",
   "execution_count": 243,
   "metadata": {},
   "outputs": [
    {
     "data": {
      "text/plain": [
       "赵一    90.0\n",
       "赵二    89.0\n",
       "赵三    90.0\n",
       "赵四    71.0\n",
       "dtype: float64"
      ]
     },
     "execution_count": 243,
     "metadata": {},
     "output_type": "execute_result"
    }
   ],
   "source": [
    "ser[0:4]  # 取第0 1 2 3 行， 终止位置取不到"
   ]
  },
  {
   "cell_type": "code",
   "execution_count": 244,
   "metadata": {},
   "outputs": [
    {
     "data": {
      "text/plain": [
       "赵一    90.0\n",
       "赵二    89.0\n",
       "赵三    90.0\n",
       "赵四    71.0\n",
       "赵五    87.0\n",
       "赵六    87.0\n",
       "赵七    65.0\n",
       "赵八    60.0\n",
       "赵九     NaN\n",
       "dtype: float64"
      ]
     },
     "execution_count": 244,
     "metadata": {},
     "output_type": "execute_result"
    }
   ],
   "source": [
    "ser"
   ]
  },
  {
   "cell_type": "code",
   "execution_count": 245,
   "metadata": {},
   "outputs": [
    {
     "data": {
      "text/plain": [
       "赵一    90.0\n",
       "赵四    71.0\n",
       "赵七    65.0\n",
       "dtype: float64"
      ]
     },
     "execution_count": 245,
     "metadata": {},
     "output_type": "execute_result"
    }
   ],
   "source": [
    "ser[0:7:3]  "
   ]
  },
  {
   "cell_type": "code",
   "execution_count": 246,
   "metadata": {},
   "outputs": [
    {
     "data": {
      "text/plain": [
       "赵九     NaN\n",
       "赵八    60.0\n",
       "赵七    65.0\n",
       "赵六    87.0\n",
       "赵五    87.0\n",
       "赵四    71.0\n",
       "赵三    90.0\n",
       "赵二    89.0\n",
       "赵一    90.0\n",
       "dtype: float64"
      ]
     },
     "execution_count": 246,
     "metadata": {},
     "output_type": "execute_result"
    }
   ],
   "source": [
    "ser[::-1]"
   ]
  },
  {
   "cell_type": "markdown",
   "metadata": {},
   "source": [
    "### 显示索引和切片 \n",
    "基于我们自己定义的行索引进行索引"
   ]
  },
  {
   "cell_type": "code",
   "execution_count": 252,
   "metadata": {},
   "outputs": [
    {
     "data": {
      "text/plain": [
       "赵一    90.0\n",
       "赵二    89.0\n",
       "赵三    90.0\n",
       "赵四    71.0\n",
       "赵五    87.0\n",
       "赵六    87.0\n",
       "赵七    65.0\n",
       "赵八    60.0\n",
       "赵九     NaN\n",
       "dtype: float64"
      ]
     },
     "execution_count": 252,
     "metadata": {},
     "output_type": "execute_result"
    }
   ],
   "source": [
    "ser"
   ]
  },
  {
   "cell_type": "code",
   "execution_count": 253,
   "metadata": {},
   "outputs": [
    {
     "data": {
      "text/plain": [
       "90.0"
      ]
     },
     "execution_count": 253,
     "metadata": {},
     "output_type": "execute_result"
    }
   ],
   "source": [
    "ser['赵三']"
   ]
  },
  {
   "cell_type": "code",
   "execution_count": 254,
   "metadata": {},
   "outputs": [
    {
     "data": {
      "text/plain": [
       "赵一    90.0\n",
       "赵八    60.0\n",
       "赵四    71.0\n",
       "dtype: float64"
      ]
     },
     "execution_count": 254,
     "metadata": {},
     "output_type": "execute_result"
    }
   ],
   "source": [
    "ser[['赵一', '赵八', '赵四']]"
   ]
  },
  {
   "cell_type": "markdown",
   "metadata": {},
   "source": [
    "**注意这里终止的能取到**"
   ]
  },
  {
   "cell_type": "code",
   "execution_count": 255,
   "metadata": {},
   "outputs": [
    {
     "data": {
      "text/plain": [
       "赵二    89.0\n",
       "赵三    90.0\n",
       "赵四    71.0\n",
       "赵五    87.0\n",
       "赵六    87.0\n",
       "赵七    65.0\n",
       "赵八    60.0\n",
       "dtype: float64"
      ]
     },
     "execution_count": 255,
     "metadata": {},
     "output_type": "execute_result"
    }
   ],
   "source": [
    "ser['赵二':'赵八']  # 注意这里终止的能取到"
   ]
  },
  {
   "cell_type": "code",
   "execution_count": 256,
   "metadata": {},
   "outputs": [
    {
     "data": {
      "text/plain": [
       "赵二    89.0\n",
       "赵五    87.0\n",
       "赵八    60.0\n",
       "dtype: float64"
      ]
     },
     "execution_count": 256,
     "metadata": {},
     "output_type": "execute_result"
    }
   ],
   "source": [
    "ser['赵二':'赵八':3]"
   ]
  },
  {
   "cell_type": "code",
   "execution_count": null,
   "metadata": {},
   "outputs": [],
   "source": []
  }
 ],
 "metadata": {
  "kernelspec": {
   "display_name": "Python 3",
   "language": "python",
   "name": "python3"
  },
  "language_info": {
   "codemirror_mode": {
    "name": "ipython",
    "version": 3
   },
   "file_extension": ".py",
   "mimetype": "text/x-python",
   "name": "python",
   "nbconvert_exporter": "python",
   "pygments_lexer": "ipython3",
   "version": "3.7.4"
  },
  "toc": {
   "base_numbering": 1,
   "nav_menu": {},
   "number_sections": true,
   "sideBar": true,
   "skip_h1_title": false,
   "title_cell": "Table of Contents",
   "title_sidebar": "Contents",
   "toc_cell": true,
   "toc_position": {
    "height": "calc(100% - 180px)",
    "left": "10px",
    "top": "150px",
    "width": "195.943px"
   },
   "toc_section_display": true,
   "toc_window_display": true
  }
 },
 "nbformat": 4,
 "nbformat_minor": 2
}
