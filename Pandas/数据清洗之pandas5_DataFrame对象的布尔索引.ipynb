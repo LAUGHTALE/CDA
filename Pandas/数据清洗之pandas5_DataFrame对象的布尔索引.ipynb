{
 "cells": [
  {
   "cell_type": "markdown",
   "metadata": {
    "toc": true
   },
   "source": [
    "<h1>Table of Contents<span class=\"tocSkip\"></span></h1>\n",
    "<div class=\"toc\"><ul class=\"toc-item\"><li><span><a href=\"#Series对象的运算\" data-toc-modified-id=\"Series对象的运算-1\"><span class=\"toc-item-num\">1&nbsp;&nbsp;</span>Series对象的运算</a></span><ul class=\"toc-item\"><li><span><a href=\"#算数运算\" data-toc-modified-id=\"算数运算-1.1\"><span class=\"toc-item-num\">1.1&nbsp;&nbsp;</span>算数运算</a></span></li><li><span><a href=\"#比较运算\" data-toc-modified-id=\"比较运算-1.2\"><span class=\"toc-item-num\">1.2&nbsp;&nbsp;</span>比较运算</a></span></li><li><span><a href=\"#逻辑运算\" data-toc-modified-id=\"逻辑运算-1.3\"><span class=\"toc-item-num\">1.3&nbsp;&nbsp;</span>逻辑运算</a></span></li></ul></li><li><span><a href=\"#DataFrame对象的布尔索引\" data-toc-modified-id=\"DataFrame对象的布尔索引-2\"><span class=\"toc-item-num\">2&nbsp;&nbsp;</span>DataFrame对象的布尔索引</a></span><ul class=\"toc-item\"><li><span><a href=\"#挑选出所有性别为男的员工信息\" data-toc-modified-id=\"挑选出所有性别为男的员工信息-2.1\"><span class=\"toc-item-num\">2.1&nbsp;&nbsp;</span>挑选出所有性别为男的员工信息</a></span></li><li><span><a href=\"#挑选出基本工资大于等于4000的员工信息\" data-toc-modified-id=\"挑选出基本工资大于等于4000的员工信息-2.2\"><span class=\"toc-item-num\">2.2&nbsp;&nbsp;</span>挑选出基本工资大于等于4000的员工信息</a></span></li><li><span><a href=\"#挑选出基本工资大于3500，-并且公司社保大于1000的员工信息\" data-toc-modified-id=\"挑选出基本工资大于3500，-并且公司社保大于1000的员工信息-2.3\"><span class=\"toc-item-num\">2.3&nbsp;&nbsp;</span>挑选出基本工资大于3500， 并且公司社保大于1000的员工信息</a></span></li><li><span><a href=\"#挑选出所有姓小的员工信息\" data-toc-modified-id=\"挑选出所有姓小的员工信息-2.4\"><span class=\"toc-item-num\">2.4&nbsp;&nbsp;</span>挑选出所有姓小的员工信息</a></span><ul class=\"toc-item\"><li><span><a href=\"#方法一for循环\" data-toc-modified-id=\"方法一for循环-2.4.1\"><span class=\"toc-item-num\">2.4.1&nbsp;&nbsp;</span>方法一for循环</a></span></li><li><span><a href=\"#方法二Series.map()方法\" data-toc-modified-id=\"方法二Series.map()方法-2.4.2\"><span class=\"toc-item-num\">2.4.2&nbsp;&nbsp;</span>方法二Series.map()方法</a></span></li></ul></li><li><span><a href=\"#挑选出性别这列有缺失值得行\" data-toc-modified-id=\"挑选出性别这列有缺失值得行-2.5\"><span class=\"toc-item-num\">2.5&nbsp;&nbsp;</span>挑选出性别这列有缺失值得行</a></span></li><li><span><a href=\"#只要含有缺失值就挑选出来\" data-toc-modified-id=\"只要含有缺失值就挑选出来-2.6\"><span class=\"toc-item-num\">2.6&nbsp;&nbsp;</span>只要含有缺失值就挑选出来</a></span></li></ul></li></ul></div>"
   ]
  },
  {
   "cell_type": "code",
   "execution_count": 1,
   "metadata": {},
   "outputs": [],
   "source": [
    "#全部行都能输出\n",
    "from IPython.core.interactiveshell import InteractiveShell\n",
    "InteractiveShell.ast_node_interactivity = \"all\""
   ]
  },
  {
   "cell_type": "code",
   "execution_count": 2,
   "metadata": {},
   "outputs": [],
   "source": [
    "import numpy as np\n",
    "import pandas as pd"
   ]
  },
  {
   "cell_type": "markdown",
   "metadata": {},
   "source": [
    "# Series对象的运算"
   ]
  },
  {
   "cell_type": "markdown",
   "metadata": {},
   "source": [
    "## 算数运算"
   ]
  },
  {
   "cell_type": "code",
   "execution_count": 3,
   "metadata": {},
   "outputs": [
    {
     "data": {
      "text/plain": [
       "0    1\n",
       "1    2\n",
       "2    3\n",
       "3    4\n",
       "4    1\n",
       "5    3\n",
       "dtype: int64"
      ]
     },
     "execution_count": 3,
     "metadata": {},
     "output_type": "execute_result"
    }
   ],
   "source": [
    "a = pd.Series([1, 2, 3, 4, 1, 3])\n",
    "a"
   ]
  },
  {
   "cell_type": "code",
   "execution_count": 4,
   "metadata": {},
   "outputs": [
    {
     "data": {
      "text/plain": [
       "0    3\n",
       "1    4\n",
       "2    5\n",
       "3    4\n",
       "4    0\n",
       "5    3\n",
       "dtype: int64"
      ]
     },
     "execution_count": 4,
     "metadata": {},
     "output_type": "execute_result"
    }
   ],
   "source": [
    "b = pd.Series([3, 4, 5, 4, 0, 3])\n",
    "b"
   ]
  },
  {
   "cell_type": "code",
   "execution_count": 5,
   "metadata": {},
   "outputs": [
    {
     "data": {
      "text/plain": [
       "0    4\n",
       "1    6\n",
       "2    8\n",
       "3    8\n",
       "4    1\n",
       "5    6\n",
       "dtype: int64"
      ]
     },
     "execution_count": 5,
     "metadata": {},
     "output_type": "execute_result"
    }
   ],
   "source": [
    "a+b   # 对应位置上的元素进运算"
   ]
  },
  {
   "cell_type": "markdown",
   "metadata": {},
   "source": [
    "其余加减乘除等等都是一样的， 都是对应位置上的元素进行元素"
   ]
  },
  {
   "cell_type": "markdown",
   "metadata": {},
   "source": [
    "## 比较运算"
   ]
  },
  {
   "cell_type": "code",
   "execution_count": 6,
   "metadata": {},
   "outputs": [
    {
     "data": {
      "text/plain": [
       "0    1\n",
       "1    2\n",
       "2    3\n",
       "3    4\n",
       "4    1\n",
       "5    3\n",
       "dtype: int64"
      ]
     },
     "execution_count": 6,
     "metadata": {},
     "output_type": "execute_result"
    },
    {
     "data": {
      "text/plain": [
       "0    3\n",
       "1    4\n",
       "2    5\n",
       "3    4\n",
       "4    0\n",
       "5    3\n",
       "dtype: int64"
      ]
     },
     "execution_count": 6,
     "metadata": {},
     "output_type": "execute_result"
    }
   ],
   "source": [
    "a\n",
    "b"
   ]
  },
  {
   "cell_type": "code",
   "execution_count": 7,
   "metadata": {},
   "outputs": [
    {
     "data": {
      "text/plain": [
       "0    False\n",
       "1    False\n",
       "2    False\n",
       "3    False\n",
       "4     True\n",
       "5    False\n",
       "dtype: bool"
      ]
     },
     "execution_count": 7,
     "metadata": {},
     "output_type": "execute_result"
    }
   ],
   "source": [
    "a>b"
   ]
  },
  {
   "cell_type": "code",
   "execution_count": 8,
   "metadata": {},
   "outputs": [
    {
     "data": {
      "text/plain": [
       "0    False\n",
       "1    False\n",
       "2    False\n",
       "3     True\n",
       "4    False\n",
       "5     True\n",
       "dtype: bool"
      ]
     },
     "execution_count": 8,
     "metadata": {},
     "output_type": "execute_result"
    }
   ],
   "source": [
    "a==b"
   ]
  },
  {
   "cell_type": "markdown",
   "metadata": {},
   "source": [
    "## 逻辑运算"
   ]
  },
  {
   "cell_type": "markdown",
   "metadata": {},
   "source": [
    "|符号|含义|释义|\n",
    "|----|----|----|\n",
    "| \\||or|或者|\n",
    "|&|and|并且|\n",
    "|~|not|取反|\n",
    "|^|xor|异或|"
   ]
  },
  {
   "cell_type": "code",
   "execution_count": 9,
   "metadata": {},
   "outputs": [
    {
     "data": {
      "text/plain": [
       "0    False\n",
       "1    False\n",
       "2    False\n",
       "3    False\n",
       "4     True\n",
       "5    False\n",
       "dtype: bool"
      ]
     },
     "execution_count": 9,
     "metadata": {},
     "output_type": "execute_result"
    }
   ],
   "source": [
    "c1 = a>b\n",
    "c1"
   ]
  },
  {
   "cell_type": "code",
   "execution_count": 10,
   "metadata": {},
   "outputs": [
    {
     "data": {
      "text/plain": [
       "0    False\n",
       "1    False\n",
       "2    False\n",
       "3     True\n",
       "4    False\n",
       "5     True\n",
       "dtype: bool"
      ]
     },
     "execution_count": 10,
     "metadata": {},
     "output_type": "execute_result"
    }
   ],
   "source": [
    "c2 = a==b\n",
    "c2"
   ]
  },
  {
   "cell_type": "code",
   "execution_count": 11,
   "metadata": {},
   "outputs": [
    {
     "data": {
      "text/plain": [
       "0    False\n",
       "1    False\n",
       "2    False\n",
       "3    False\n",
       "4    False\n",
       "5    False\n",
       "dtype: bool"
      ]
     },
     "execution_count": 11,
     "metadata": {},
     "output_type": "execute_result"
    }
   ],
   "source": [
    "c1 & c2  # 与运算， 这里不能用and， 只能用该符号"
   ]
  },
  {
   "cell_type": "code",
   "execution_count": 12,
   "metadata": {},
   "outputs": [
    {
     "data": {
      "text/plain": [
       "0     True\n",
       "1     True\n",
       "2     True\n",
       "3     True\n",
       "4    False\n",
       "5     True\n",
       "dtype: bool"
      ]
     },
     "execution_count": 12,
     "metadata": {},
     "output_type": "execute_result"
    }
   ],
   "source": [
    "~c1  # 取反, 这里同样不能用not"
   ]
  },
  {
   "cell_type": "markdown",
   "metadata": {},
   "source": [
    "OK, 有了以上基础， 我们就可以来学习DataFrame对象的布尔索引"
   ]
  },
  {
   "cell_type": "markdown",
   "metadata": {},
   "source": [
    "# DataFrame对象的布尔索引"
   ]
  },
  {
   "cell_type": "code",
   "execution_count": 13,
   "metadata": {},
   "outputs": [
    {
     "data": {
      "text/html": [
       "<div>\n",
       "<style scoped>\n",
       "    .dataframe tbody tr th:only-of-type {\n",
       "        vertical-align: middle;\n",
       "    }\n",
       "\n",
       "    .dataframe tbody tr th {\n",
       "        vertical-align: top;\n",
       "    }\n",
       "\n",
       "    .dataframe thead th {\n",
       "        text-align: right;\n",
       "    }\n",
       "</style>\n",
       "<table border=\"1\" class=\"dataframe\">\n",
       "  <thead>\n",
       "    <tr style=\"text-align: right;\">\n",
       "      <th></th>\n",
       "      <th>姓名</th>\n",
       "      <th>性别</th>\n",
       "      <th>基本工资</th>\n",
       "      <th>销售业绩</th>\n",
       "      <th>公司社保</th>\n",
       "      <th>奖金</th>\n",
       "      <th>在职情况</th>\n",
       "    </tr>\n",
       "  </thead>\n",
       "  <tbody>\n",
       "    <tr>\n",
       "      <td>0</td>\n",
       "      <td>张三</td>\n",
       "      <td>男</td>\n",
       "      <td>3550</td>\n",
       "      <td>20000</td>\n",
       "      <td>1340</td>\n",
       "      <td>300.0</td>\n",
       "      <td>在职</td>\n",
       "    </tr>\n",
       "    <tr>\n",
       "      <td>1</td>\n",
       "      <td>李四</td>\n",
       "      <td>男</td>\n",
       "      <td>3000</td>\n",
       "      <td>24000</td>\n",
       "      <td>2300</td>\n",
       "      <td>0.0</td>\n",
       "      <td>在职</td>\n",
       "    </tr>\n",
       "    <tr>\n",
       "      <td>2</td>\n",
       "      <td>小明</td>\n",
       "      <td>NaN</td>\n",
       "      <td>4666</td>\n",
       "      <td>21000</td>\n",
       "      <td>1100</td>\n",
       "      <td>NaN</td>\n",
       "      <td>在职</td>\n",
       "    </tr>\n",
       "    <tr>\n",
       "      <td>3</td>\n",
       "      <td>小红</td>\n",
       "      <td>NaN</td>\n",
       "      <td>4000</td>\n",
       "      <td>25000</td>\n",
       "      <td>1200</td>\n",
       "      <td>500.0</td>\n",
       "      <td>在职</td>\n",
       "    </tr>\n",
       "    <tr>\n",
       "      <td>4</td>\n",
       "      <td>王五</td>\n",
       "      <td>男</td>\n",
       "      <td>3700</td>\n",
       "      <td>16000</td>\n",
       "      <td>890</td>\n",
       "      <td>300.0</td>\n",
       "      <td>在职</td>\n",
       "    </tr>\n",
       "  </tbody>\n",
       "</table>\n",
       "</div>"
      ],
      "text/plain": [
       "   姓名   性别  基本工资   销售业绩  公司社保     奖金 在职情况\n",
       "0  张三    男  3550  20000  1340  300.0   在职\n",
       "1  李四    男  3000  24000  2300    0.0   在职\n",
       "2  小明  NaN  4666  21000  1100    NaN   在职\n",
       "3  小红  NaN  4000  25000  1200  500.0   在职\n",
       "4  王五    男  3700  16000   890  300.0   在职"
      ]
     },
     "execution_count": 13,
     "metadata": {},
     "output_type": "execute_result"
    }
   ],
   "source": [
    "df = pd.DataFrame({'姓名':['张三', '李四', '小明', '小红', '王五', ], \n",
    "                   '性别':['男', '男', np.nan, np.nan, '男'],\n",
    "                   '基本工资': [3550, 3000, 4666, 4000, 3700],\n",
    "                   '销售业绩': [20000, 24000, 21000, 25000, 16000],\n",
    "                   '公司社保': [1340, 2300, 1100, 1200, 890],\n",
    "                   '奖金'    : [300, 0, np.nan, 500, 300],\n",
    "                   '在职情况': ['在职', '在职', '在职', '在职', '在职']})\n",
    "df"
   ]
  },
  {
   "cell_type": "code",
   "execution_count": 14,
   "metadata": {},
   "outputs": [],
   "source": [
    "df['销售提成'] = df.销售业绩*0.2"
   ]
  },
  {
   "cell_type": "code",
   "execution_count": 15,
   "metadata": {},
   "outputs": [],
   "source": [
    "df.insert(4, '销售提成', df.pop('销售提成'))"
   ]
  },
  {
   "cell_type": "code",
   "execution_count": 16,
   "metadata": {},
   "outputs": [
    {
     "data": {
      "text/html": [
       "<div>\n",
       "<style scoped>\n",
       "    .dataframe tbody tr th:only-of-type {\n",
       "        vertical-align: middle;\n",
       "    }\n",
       "\n",
       "    .dataframe tbody tr th {\n",
       "        vertical-align: top;\n",
       "    }\n",
       "\n",
       "    .dataframe thead th {\n",
       "        text-align: right;\n",
       "    }\n",
       "</style>\n",
       "<table border=\"1\" class=\"dataframe\">\n",
       "  <thead>\n",
       "    <tr style=\"text-align: right;\">\n",
       "      <th></th>\n",
       "      <th>姓名</th>\n",
       "      <th>性别</th>\n",
       "      <th>基本工资</th>\n",
       "      <th>销售业绩</th>\n",
       "      <th>销售提成</th>\n",
       "      <th>公司社保</th>\n",
       "      <th>奖金</th>\n",
       "      <th>在职情况</th>\n",
       "    </tr>\n",
       "  </thead>\n",
       "  <tbody>\n",
       "    <tr>\n",
       "      <td>0</td>\n",
       "      <td>张三</td>\n",
       "      <td>男</td>\n",
       "      <td>3550</td>\n",
       "      <td>20000</td>\n",
       "      <td>4000.0</td>\n",
       "      <td>1340</td>\n",
       "      <td>300.0</td>\n",
       "      <td>在职</td>\n",
       "    </tr>\n",
       "    <tr>\n",
       "      <td>1</td>\n",
       "      <td>李四</td>\n",
       "      <td>男</td>\n",
       "      <td>3000</td>\n",
       "      <td>24000</td>\n",
       "      <td>4800.0</td>\n",
       "      <td>2300</td>\n",
       "      <td>0.0</td>\n",
       "      <td>在职</td>\n",
       "    </tr>\n",
       "    <tr>\n",
       "      <td>2</td>\n",
       "      <td>小明</td>\n",
       "      <td>NaN</td>\n",
       "      <td>4666</td>\n",
       "      <td>21000</td>\n",
       "      <td>4200.0</td>\n",
       "      <td>1100</td>\n",
       "      <td>NaN</td>\n",
       "      <td>在职</td>\n",
       "    </tr>\n",
       "    <tr>\n",
       "      <td>3</td>\n",
       "      <td>小红</td>\n",
       "      <td>NaN</td>\n",
       "      <td>4000</td>\n",
       "      <td>25000</td>\n",
       "      <td>5000.0</td>\n",
       "      <td>1200</td>\n",
       "      <td>500.0</td>\n",
       "      <td>在职</td>\n",
       "    </tr>\n",
       "    <tr>\n",
       "      <td>4</td>\n",
       "      <td>王五</td>\n",
       "      <td>男</td>\n",
       "      <td>3700</td>\n",
       "      <td>16000</td>\n",
       "      <td>3200.0</td>\n",
       "      <td>890</td>\n",
       "      <td>300.0</td>\n",
       "      <td>在职</td>\n",
       "    </tr>\n",
       "  </tbody>\n",
       "</table>\n",
       "</div>"
      ],
      "text/plain": [
       "   姓名   性别  基本工资   销售业绩    销售提成  公司社保     奖金 在职情况\n",
       "0  张三    男  3550  20000  4000.0  1340  300.0   在职\n",
       "1  李四    男  3000  24000  4800.0  2300    0.0   在职\n",
       "2  小明  NaN  4666  21000  4200.0  1100    NaN   在职\n",
       "3  小红  NaN  4000  25000  5000.0  1200  500.0   在职\n",
       "4  王五    男  3700  16000  3200.0   890  300.0   在职"
      ]
     },
     "execution_count": 16,
     "metadata": {},
     "output_type": "execute_result"
    }
   ],
   "source": [
    "df"
   ]
  },
  {
   "cell_type": "markdown",
   "metadata": {},
   "source": [
    "## 挑选出所有性别为男的员工信息"
   ]
  },
  {
   "cell_type": "code",
   "execution_count": 17,
   "metadata": {},
   "outputs": [
    {
     "data": {
      "text/plain": [
       "0     True\n",
       "1     True\n",
       "2    False\n",
       "3    False\n",
       "4     True\n",
       "Name: 性别, dtype: bool"
      ]
     },
     "execution_count": 17,
     "metadata": {},
     "output_type": "execute_result"
    }
   ],
   "source": [
    "df.性别 == '男'"
   ]
  },
  {
   "cell_type": "code",
   "execution_count": 18,
   "metadata": {},
   "outputs": [
    {
     "data": {
      "text/html": [
       "<div>\n",
       "<style scoped>\n",
       "    .dataframe tbody tr th:only-of-type {\n",
       "        vertical-align: middle;\n",
       "    }\n",
       "\n",
       "    .dataframe tbody tr th {\n",
       "        vertical-align: top;\n",
       "    }\n",
       "\n",
       "    .dataframe thead th {\n",
       "        text-align: right;\n",
       "    }\n",
       "</style>\n",
       "<table border=\"1\" class=\"dataframe\">\n",
       "  <thead>\n",
       "    <tr style=\"text-align: right;\">\n",
       "      <th></th>\n",
       "      <th>姓名</th>\n",
       "      <th>性别</th>\n",
       "      <th>基本工资</th>\n",
       "      <th>销售业绩</th>\n",
       "      <th>销售提成</th>\n",
       "      <th>公司社保</th>\n",
       "      <th>奖金</th>\n",
       "      <th>在职情况</th>\n",
       "    </tr>\n",
       "  </thead>\n",
       "  <tbody>\n",
       "    <tr>\n",
       "      <td>0</td>\n",
       "      <td>张三</td>\n",
       "      <td>男</td>\n",
       "      <td>3550</td>\n",
       "      <td>20000</td>\n",
       "      <td>4000.0</td>\n",
       "      <td>1340</td>\n",
       "      <td>300.0</td>\n",
       "      <td>在职</td>\n",
       "    </tr>\n",
       "    <tr>\n",
       "      <td>1</td>\n",
       "      <td>李四</td>\n",
       "      <td>男</td>\n",
       "      <td>3000</td>\n",
       "      <td>24000</td>\n",
       "      <td>4800.0</td>\n",
       "      <td>2300</td>\n",
       "      <td>0.0</td>\n",
       "      <td>在职</td>\n",
       "    </tr>\n",
       "    <tr>\n",
       "      <td>4</td>\n",
       "      <td>王五</td>\n",
       "      <td>男</td>\n",
       "      <td>3700</td>\n",
       "      <td>16000</td>\n",
       "      <td>3200.0</td>\n",
       "      <td>890</td>\n",
       "      <td>300.0</td>\n",
       "      <td>在职</td>\n",
       "    </tr>\n",
       "  </tbody>\n",
       "</table>\n",
       "</div>"
      ],
      "text/plain": [
       "   姓名 性别  基本工资   销售业绩    销售提成  公司社保     奖金 在职情况\n",
       "0  张三  男  3550  20000  4000.0  1340  300.0   在职\n",
       "1  李四  男  3000  24000  4800.0  2300    0.0   在职\n",
       "4  王五  男  3700  16000  3200.0   890  300.0   在职"
      ]
     },
     "execution_count": 18,
     "metadata": {},
     "output_type": "execute_result"
    }
   ],
   "source": [
    "df[df.性别 == '男']  # 也就是说会返回bool值是True的那些行"
   ]
  },
  {
   "cell_type": "markdown",
   "metadata": {},
   "source": [
    "## 挑选出基本工资大于等于4000的员工信息"
   ]
  },
  {
   "cell_type": "code",
   "execution_count": 19,
   "metadata": {},
   "outputs": [
    {
     "data": {
      "text/html": [
       "<div>\n",
       "<style scoped>\n",
       "    .dataframe tbody tr th:only-of-type {\n",
       "        vertical-align: middle;\n",
       "    }\n",
       "\n",
       "    .dataframe tbody tr th {\n",
       "        vertical-align: top;\n",
       "    }\n",
       "\n",
       "    .dataframe thead th {\n",
       "        text-align: right;\n",
       "    }\n",
       "</style>\n",
       "<table border=\"1\" class=\"dataframe\">\n",
       "  <thead>\n",
       "    <tr style=\"text-align: right;\">\n",
       "      <th></th>\n",
       "      <th>姓名</th>\n",
       "      <th>性别</th>\n",
       "      <th>基本工资</th>\n",
       "      <th>销售业绩</th>\n",
       "      <th>销售提成</th>\n",
       "      <th>公司社保</th>\n",
       "      <th>奖金</th>\n",
       "      <th>在职情况</th>\n",
       "    </tr>\n",
       "  </thead>\n",
       "  <tbody>\n",
       "    <tr>\n",
       "      <td>0</td>\n",
       "      <td>张三</td>\n",
       "      <td>男</td>\n",
       "      <td>3550</td>\n",
       "      <td>20000</td>\n",
       "      <td>4000.0</td>\n",
       "      <td>1340</td>\n",
       "      <td>300.0</td>\n",
       "      <td>在职</td>\n",
       "    </tr>\n",
       "    <tr>\n",
       "      <td>1</td>\n",
       "      <td>李四</td>\n",
       "      <td>男</td>\n",
       "      <td>3000</td>\n",
       "      <td>24000</td>\n",
       "      <td>4800.0</td>\n",
       "      <td>2300</td>\n",
       "      <td>0.0</td>\n",
       "      <td>在职</td>\n",
       "    </tr>\n",
       "    <tr>\n",
       "      <td>2</td>\n",
       "      <td>小明</td>\n",
       "      <td>NaN</td>\n",
       "      <td>4666</td>\n",
       "      <td>21000</td>\n",
       "      <td>4200.0</td>\n",
       "      <td>1100</td>\n",
       "      <td>NaN</td>\n",
       "      <td>在职</td>\n",
       "    </tr>\n",
       "    <tr>\n",
       "      <td>3</td>\n",
       "      <td>小红</td>\n",
       "      <td>NaN</td>\n",
       "      <td>4000</td>\n",
       "      <td>25000</td>\n",
       "      <td>5000.0</td>\n",
       "      <td>1200</td>\n",
       "      <td>500.0</td>\n",
       "      <td>在职</td>\n",
       "    </tr>\n",
       "    <tr>\n",
       "      <td>4</td>\n",
       "      <td>王五</td>\n",
       "      <td>男</td>\n",
       "      <td>3700</td>\n",
       "      <td>16000</td>\n",
       "      <td>3200.0</td>\n",
       "      <td>890</td>\n",
       "      <td>300.0</td>\n",
       "      <td>在职</td>\n",
       "    </tr>\n",
       "  </tbody>\n",
       "</table>\n",
       "</div>"
      ],
      "text/plain": [
       "   姓名   性别  基本工资   销售业绩    销售提成  公司社保     奖金 在职情况\n",
       "0  张三    男  3550  20000  4000.0  1340  300.0   在职\n",
       "1  李四    男  3000  24000  4800.0  2300    0.0   在职\n",
       "2  小明  NaN  4666  21000  4200.0  1100    NaN   在职\n",
       "3  小红  NaN  4000  25000  5000.0  1200  500.0   在职\n",
       "4  王五    男  3700  16000  3200.0   890  300.0   在职"
      ]
     },
     "execution_count": 19,
     "metadata": {},
     "output_type": "execute_result"
    }
   ],
   "source": [
    "df"
   ]
  },
  {
   "cell_type": "code",
   "execution_count": 20,
   "metadata": {},
   "outputs": [
    {
     "data": {
      "text/plain": [
       "0    False\n",
       "1    False\n",
       "2     True\n",
       "3     True\n",
       "4    False\n",
       "Name: 基本工资, dtype: bool"
      ]
     },
     "execution_count": 20,
     "metadata": {},
     "output_type": "execute_result"
    }
   ],
   "source": [
    "df.基本工资>=4000"
   ]
  },
  {
   "cell_type": "code",
   "execution_count": 21,
   "metadata": {},
   "outputs": [
    {
     "data": {
      "text/html": [
       "<div>\n",
       "<style scoped>\n",
       "    .dataframe tbody tr th:only-of-type {\n",
       "        vertical-align: middle;\n",
       "    }\n",
       "\n",
       "    .dataframe tbody tr th {\n",
       "        vertical-align: top;\n",
       "    }\n",
       "\n",
       "    .dataframe thead th {\n",
       "        text-align: right;\n",
       "    }\n",
       "</style>\n",
       "<table border=\"1\" class=\"dataframe\">\n",
       "  <thead>\n",
       "    <tr style=\"text-align: right;\">\n",
       "      <th></th>\n",
       "      <th>姓名</th>\n",
       "      <th>性别</th>\n",
       "      <th>基本工资</th>\n",
       "      <th>销售业绩</th>\n",
       "      <th>销售提成</th>\n",
       "      <th>公司社保</th>\n",
       "      <th>奖金</th>\n",
       "      <th>在职情况</th>\n",
       "    </tr>\n",
       "  </thead>\n",
       "  <tbody>\n",
       "    <tr>\n",
       "      <td>2</td>\n",
       "      <td>小明</td>\n",
       "      <td>NaN</td>\n",
       "      <td>4666</td>\n",
       "      <td>21000</td>\n",
       "      <td>4200.0</td>\n",
       "      <td>1100</td>\n",
       "      <td>NaN</td>\n",
       "      <td>在职</td>\n",
       "    </tr>\n",
       "    <tr>\n",
       "      <td>3</td>\n",
       "      <td>小红</td>\n",
       "      <td>NaN</td>\n",
       "      <td>4000</td>\n",
       "      <td>25000</td>\n",
       "      <td>5000.0</td>\n",
       "      <td>1200</td>\n",
       "      <td>500.0</td>\n",
       "      <td>在职</td>\n",
       "    </tr>\n",
       "  </tbody>\n",
       "</table>\n",
       "</div>"
      ],
      "text/plain": [
       "   姓名   性别  基本工资   销售业绩    销售提成  公司社保     奖金 在职情况\n",
       "2  小明  NaN  4666  21000  4200.0  1100    NaN   在职\n",
       "3  小红  NaN  4000  25000  5000.0  1200  500.0   在职"
      ]
     },
     "execution_count": 21,
     "metadata": {},
     "output_type": "execute_result"
    }
   ],
   "source": [
    "df[df.基本工资>=4000]"
   ]
  },
  {
   "cell_type": "code",
   "execution_count": null,
   "metadata": {},
   "outputs": [],
   "source": []
  },
  {
   "cell_type": "markdown",
   "metadata": {},
   "source": [
    "## 挑选出基本工资大于3500， 并且公司社保大于1000的员工信息"
   ]
  },
  {
   "cell_type": "code",
   "execution_count": 22,
   "metadata": {},
   "outputs": [
    {
     "data": {
      "text/html": [
       "<div>\n",
       "<style scoped>\n",
       "    .dataframe tbody tr th:only-of-type {\n",
       "        vertical-align: middle;\n",
       "    }\n",
       "\n",
       "    .dataframe tbody tr th {\n",
       "        vertical-align: top;\n",
       "    }\n",
       "\n",
       "    .dataframe thead th {\n",
       "        text-align: right;\n",
       "    }\n",
       "</style>\n",
       "<table border=\"1\" class=\"dataframe\">\n",
       "  <thead>\n",
       "    <tr style=\"text-align: right;\">\n",
       "      <th></th>\n",
       "      <th>姓名</th>\n",
       "      <th>性别</th>\n",
       "      <th>基本工资</th>\n",
       "      <th>销售业绩</th>\n",
       "      <th>销售提成</th>\n",
       "      <th>公司社保</th>\n",
       "      <th>奖金</th>\n",
       "      <th>在职情况</th>\n",
       "    </tr>\n",
       "  </thead>\n",
       "  <tbody>\n",
       "    <tr>\n",
       "      <td>0</td>\n",
       "      <td>张三</td>\n",
       "      <td>男</td>\n",
       "      <td>3550</td>\n",
       "      <td>20000</td>\n",
       "      <td>4000.0</td>\n",
       "      <td>1340</td>\n",
       "      <td>300.0</td>\n",
       "      <td>在职</td>\n",
       "    </tr>\n",
       "    <tr>\n",
       "      <td>1</td>\n",
       "      <td>李四</td>\n",
       "      <td>男</td>\n",
       "      <td>3000</td>\n",
       "      <td>24000</td>\n",
       "      <td>4800.0</td>\n",
       "      <td>2300</td>\n",
       "      <td>0.0</td>\n",
       "      <td>在职</td>\n",
       "    </tr>\n",
       "    <tr>\n",
       "      <td>2</td>\n",
       "      <td>小明</td>\n",
       "      <td>NaN</td>\n",
       "      <td>4666</td>\n",
       "      <td>21000</td>\n",
       "      <td>4200.0</td>\n",
       "      <td>1100</td>\n",
       "      <td>NaN</td>\n",
       "      <td>在职</td>\n",
       "    </tr>\n",
       "    <tr>\n",
       "      <td>3</td>\n",
       "      <td>小红</td>\n",
       "      <td>NaN</td>\n",
       "      <td>4000</td>\n",
       "      <td>25000</td>\n",
       "      <td>5000.0</td>\n",
       "      <td>1200</td>\n",
       "      <td>500.0</td>\n",
       "      <td>在职</td>\n",
       "    </tr>\n",
       "    <tr>\n",
       "      <td>4</td>\n",
       "      <td>王五</td>\n",
       "      <td>男</td>\n",
       "      <td>3700</td>\n",
       "      <td>16000</td>\n",
       "      <td>3200.0</td>\n",
       "      <td>890</td>\n",
       "      <td>300.0</td>\n",
       "      <td>在职</td>\n",
       "    </tr>\n",
       "  </tbody>\n",
       "</table>\n",
       "</div>"
      ],
      "text/plain": [
       "   姓名   性别  基本工资   销售业绩    销售提成  公司社保     奖金 在职情况\n",
       "0  张三    男  3550  20000  4000.0  1340  300.0   在职\n",
       "1  李四    男  3000  24000  4800.0  2300    0.0   在职\n",
       "2  小明  NaN  4666  21000  4200.0  1100    NaN   在职\n",
       "3  小红  NaN  4000  25000  5000.0  1200  500.0   在职\n",
       "4  王五    男  3700  16000  3200.0   890  300.0   在职"
      ]
     },
     "execution_count": 22,
     "metadata": {},
     "output_type": "execute_result"
    }
   ],
   "source": [
    "df"
   ]
  },
  {
   "cell_type": "code",
   "execution_count": 23,
   "metadata": {},
   "outputs": [
    {
     "data": {
      "text/plain": [
       "0     True\n",
       "1    False\n",
       "2     True\n",
       "3     True\n",
       "4     True\n",
       "Name: 基本工资, dtype: bool"
      ]
     },
     "execution_count": 23,
     "metadata": {},
     "output_type": "execute_result"
    }
   ],
   "source": [
    "df.基本工资>3500"
   ]
  },
  {
   "cell_type": "code",
   "execution_count": 24,
   "metadata": {},
   "outputs": [
    {
     "data": {
      "text/plain": [
       "0     True\n",
       "1     True\n",
       "2     True\n",
       "3     True\n",
       "4    False\n",
       "Name: 公司社保, dtype: bool"
      ]
     },
     "execution_count": 24,
     "metadata": {},
     "output_type": "execute_result"
    }
   ],
   "source": [
    "df.公司社保>1000"
   ]
  },
  {
   "cell_type": "code",
   "execution_count": 25,
   "metadata": {},
   "outputs": [
    {
     "data": {
      "text/plain": [
       "0     True\n",
       "1    False\n",
       "2     True\n",
       "3     True\n",
       "4    False\n",
       "dtype: bool"
      ]
     },
     "execution_count": 25,
     "metadata": {},
     "output_type": "execute_result"
    }
   ],
   "source": [
    "(df.基本工资>3500) & (df.公司社保>1000)  # 这里最好加括号"
   ]
  },
  {
   "cell_type": "code",
   "execution_count": 26,
   "metadata": {},
   "outputs": [
    {
     "data": {
      "text/html": [
       "<div>\n",
       "<style scoped>\n",
       "    .dataframe tbody tr th:only-of-type {\n",
       "        vertical-align: middle;\n",
       "    }\n",
       "\n",
       "    .dataframe tbody tr th {\n",
       "        vertical-align: top;\n",
       "    }\n",
       "\n",
       "    .dataframe thead th {\n",
       "        text-align: right;\n",
       "    }\n",
       "</style>\n",
       "<table border=\"1\" class=\"dataframe\">\n",
       "  <thead>\n",
       "    <tr style=\"text-align: right;\">\n",
       "      <th></th>\n",
       "      <th>姓名</th>\n",
       "      <th>性别</th>\n",
       "      <th>基本工资</th>\n",
       "      <th>销售业绩</th>\n",
       "      <th>销售提成</th>\n",
       "      <th>公司社保</th>\n",
       "      <th>奖金</th>\n",
       "      <th>在职情况</th>\n",
       "    </tr>\n",
       "  </thead>\n",
       "  <tbody>\n",
       "    <tr>\n",
       "      <td>0</td>\n",
       "      <td>张三</td>\n",
       "      <td>男</td>\n",
       "      <td>3550</td>\n",
       "      <td>20000</td>\n",
       "      <td>4000.0</td>\n",
       "      <td>1340</td>\n",
       "      <td>300.0</td>\n",
       "      <td>在职</td>\n",
       "    </tr>\n",
       "    <tr>\n",
       "      <td>2</td>\n",
       "      <td>小明</td>\n",
       "      <td>NaN</td>\n",
       "      <td>4666</td>\n",
       "      <td>21000</td>\n",
       "      <td>4200.0</td>\n",
       "      <td>1100</td>\n",
       "      <td>NaN</td>\n",
       "      <td>在职</td>\n",
       "    </tr>\n",
       "    <tr>\n",
       "      <td>3</td>\n",
       "      <td>小红</td>\n",
       "      <td>NaN</td>\n",
       "      <td>4000</td>\n",
       "      <td>25000</td>\n",
       "      <td>5000.0</td>\n",
       "      <td>1200</td>\n",
       "      <td>500.0</td>\n",
       "      <td>在职</td>\n",
       "    </tr>\n",
       "  </tbody>\n",
       "</table>\n",
       "</div>"
      ],
      "text/plain": [
       "   姓名   性别  基本工资   销售业绩    销售提成  公司社保     奖金 在职情况\n",
       "0  张三    男  3550  20000  4000.0  1340  300.0   在职\n",
       "2  小明  NaN  4666  21000  4200.0  1100    NaN   在职\n",
       "3  小红  NaN  4000  25000  5000.0  1200  500.0   在职"
      ]
     },
     "execution_count": 26,
     "metadata": {},
     "output_type": "execute_result"
    }
   ],
   "source": [
    "df[(df.基本工资>3500) & (df.公司社保>1000)]"
   ]
  },
  {
   "cell_type": "markdown",
   "metadata": {},
   "source": [
    "## 挑选出所有姓小的员工信息"
   ]
  },
  {
   "cell_type": "markdown",
   "metadata": {},
   "source": [
    "### 方法一for循环"
   ]
  },
  {
   "cell_type": "code",
   "execution_count": 27,
   "metadata": {},
   "outputs": [
    {
     "data": {
      "text/plain": [
       "0    张三\n",
       "1    李四\n",
       "2    小明\n",
       "3    小红\n",
       "4    王五\n",
       "Name: 姓名, dtype: object"
      ]
     },
     "execution_count": 27,
     "metadata": {},
     "output_type": "execute_result"
    }
   ],
   "source": [
    "df.姓名"
   ]
  },
  {
   "cell_type": "code",
   "execution_count": 28,
   "metadata": {},
   "outputs": [
    {
     "name": "stdout",
     "output_type": "stream",
     "text": [
      "[False, False, True, True, False]\n"
     ]
    }
   ],
   "source": [
    "l = []\n",
    "for i in df.姓名:\n",
    "    if i[0] == '小':\n",
    "        l.append(True)\n",
    "    else:\n",
    "        l.append(False)\n",
    "print(l)    "
   ]
  },
  {
   "cell_type": "code",
   "execution_count": 29,
   "metadata": {},
   "outputs": [
    {
     "data": {
      "text/html": [
       "<div>\n",
       "<style scoped>\n",
       "    .dataframe tbody tr th:only-of-type {\n",
       "        vertical-align: middle;\n",
       "    }\n",
       "\n",
       "    .dataframe tbody tr th {\n",
       "        vertical-align: top;\n",
       "    }\n",
       "\n",
       "    .dataframe thead th {\n",
       "        text-align: right;\n",
       "    }\n",
       "</style>\n",
       "<table border=\"1\" class=\"dataframe\">\n",
       "  <thead>\n",
       "    <tr style=\"text-align: right;\">\n",
       "      <th></th>\n",
       "      <th>姓名</th>\n",
       "      <th>性别</th>\n",
       "      <th>基本工资</th>\n",
       "      <th>销售业绩</th>\n",
       "      <th>销售提成</th>\n",
       "      <th>公司社保</th>\n",
       "      <th>奖金</th>\n",
       "      <th>在职情况</th>\n",
       "    </tr>\n",
       "  </thead>\n",
       "  <tbody>\n",
       "    <tr>\n",
       "      <td>2</td>\n",
       "      <td>小明</td>\n",
       "      <td>NaN</td>\n",
       "      <td>4666</td>\n",
       "      <td>21000</td>\n",
       "      <td>4200.0</td>\n",
       "      <td>1100</td>\n",
       "      <td>NaN</td>\n",
       "      <td>在职</td>\n",
       "    </tr>\n",
       "    <tr>\n",
       "      <td>3</td>\n",
       "      <td>小红</td>\n",
       "      <td>NaN</td>\n",
       "      <td>4000</td>\n",
       "      <td>25000</td>\n",
       "      <td>5000.0</td>\n",
       "      <td>1200</td>\n",
       "      <td>500.0</td>\n",
       "      <td>在职</td>\n",
       "    </tr>\n",
       "  </tbody>\n",
       "</table>\n",
       "</div>"
      ],
      "text/plain": [
       "   姓名   性别  基本工资   销售业绩    销售提成  公司社保     奖金 在职情况\n",
       "2  小明  NaN  4666  21000  4200.0  1100    NaN   在职\n",
       "3  小红  NaN  4000  25000  5000.0  1200  500.0   在职"
      ]
     },
     "execution_count": 29,
     "metadata": {},
     "output_type": "execute_result"
    }
   ],
   "source": [
    "df[l]"
   ]
  },
  {
   "cell_type": "markdown",
   "metadata": {},
   "source": [
    "### 方法二Series.map()方法  \n",
    "map()方法接受一个函数名"
   ]
  },
  {
   "cell_type": "code",
   "execution_count": 30,
   "metadata": {},
   "outputs": [
    {
     "data": {
      "text/plain": [
       "0    张三\n",
       "1    李四\n",
       "2    小明\n",
       "3    小红\n",
       "4    王五\n",
       "Name: 姓名, dtype: object"
      ]
     },
     "execution_count": 30,
     "metadata": {},
     "output_type": "execute_result"
    }
   ],
   "source": [
    "df.姓名"
   ]
  },
  {
   "cell_type": "code",
   "execution_count": 31,
   "metadata": {},
   "outputs": [],
   "source": [
    "def pr(x):\n",
    "    if x[0] == '小':\n",
    "        return True\n",
    "    else:\n",
    "        return False"
   ]
  },
  {
   "cell_type": "code",
   "execution_count": 32,
   "metadata": {},
   "outputs": [
    {
     "data": {
      "text/plain": [
       "0    False\n",
       "1    False\n",
       "2     True\n",
       "3     True\n",
       "4    False\n",
       "Name: 姓名, dtype: bool"
      ]
     },
     "execution_count": 32,
     "metadata": {},
     "output_type": "execute_result"
    }
   ],
   "source": [
    "df.姓名.map(pr)"
   ]
  },
  {
   "cell_type": "code",
   "execution_count": 33,
   "metadata": {},
   "outputs": [
    {
     "data": {
      "text/html": [
       "<div>\n",
       "<style scoped>\n",
       "    .dataframe tbody tr th:only-of-type {\n",
       "        vertical-align: middle;\n",
       "    }\n",
       "\n",
       "    .dataframe tbody tr th {\n",
       "        vertical-align: top;\n",
       "    }\n",
       "\n",
       "    .dataframe thead th {\n",
       "        text-align: right;\n",
       "    }\n",
       "</style>\n",
       "<table border=\"1\" class=\"dataframe\">\n",
       "  <thead>\n",
       "    <tr style=\"text-align: right;\">\n",
       "      <th></th>\n",
       "      <th>姓名</th>\n",
       "      <th>性别</th>\n",
       "      <th>基本工资</th>\n",
       "      <th>销售业绩</th>\n",
       "      <th>销售提成</th>\n",
       "      <th>公司社保</th>\n",
       "      <th>奖金</th>\n",
       "      <th>在职情况</th>\n",
       "    </tr>\n",
       "  </thead>\n",
       "  <tbody>\n",
       "    <tr>\n",
       "      <td>2</td>\n",
       "      <td>小明</td>\n",
       "      <td>NaN</td>\n",
       "      <td>4666</td>\n",
       "      <td>21000</td>\n",
       "      <td>4200.0</td>\n",
       "      <td>1100</td>\n",
       "      <td>NaN</td>\n",
       "      <td>在职</td>\n",
       "    </tr>\n",
       "    <tr>\n",
       "      <td>3</td>\n",
       "      <td>小红</td>\n",
       "      <td>NaN</td>\n",
       "      <td>4000</td>\n",
       "      <td>25000</td>\n",
       "      <td>5000.0</td>\n",
       "      <td>1200</td>\n",
       "      <td>500.0</td>\n",
       "      <td>在职</td>\n",
       "    </tr>\n",
       "  </tbody>\n",
       "</table>\n",
       "</div>"
      ],
      "text/plain": [
       "   姓名   性别  基本工资   销售业绩    销售提成  公司社保     奖金 在职情况\n",
       "2  小明  NaN  4666  21000  4200.0  1100    NaN   在职\n",
       "3  小红  NaN  4000  25000  5000.0  1200  500.0   在职"
      ]
     },
     "execution_count": 33,
     "metadata": {},
     "output_type": "execute_result"
    }
   ],
   "source": [
    "df[df.姓名.map(pr)]"
   ]
  },
  {
   "cell_type": "markdown",
   "metadata": {},
   "source": [
    "**或者有一种非常优雅的写法**"
   ]
  },
  {
   "cell_type": "code",
   "execution_count": 34,
   "metadata": {},
   "outputs": [
    {
     "data": {
      "text/html": [
       "<div>\n",
       "<style scoped>\n",
       "    .dataframe tbody tr th:only-of-type {\n",
       "        vertical-align: middle;\n",
       "    }\n",
       "\n",
       "    .dataframe tbody tr th {\n",
       "        vertical-align: top;\n",
       "    }\n",
       "\n",
       "    .dataframe thead th {\n",
       "        text-align: right;\n",
       "    }\n",
       "</style>\n",
       "<table border=\"1\" class=\"dataframe\">\n",
       "  <thead>\n",
       "    <tr style=\"text-align: right;\">\n",
       "      <th></th>\n",
       "      <th>姓名</th>\n",
       "      <th>性别</th>\n",
       "      <th>基本工资</th>\n",
       "      <th>销售业绩</th>\n",
       "      <th>销售提成</th>\n",
       "      <th>公司社保</th>\n",
       "      <th>奖金</th>\n",
       "      <th>在职情况</th>\n",
       "    </tr>\n",
       "  </thead>\n",
       "  <tbody>\n",
       "    <tr>\n",
       "      <td>2</td>\n",
       "      <td>小明</td>\n",
       "      <td>NaN</td>\n",
       "      <td>4666</td>\n",
       "      <td>21000</td>\n",
       "      <td>4200.0</td>\n",
       "      <td>1100</td>\n",
       "      <td>NaN</td>\n",
       "      <td>在职</td>\n",
       "    </tr>\n",
       "    <tr>\n",
       "      <td>3</td>\n",
       "      <td>小红</td>\n",
       "      <td>NaN</td>\n",
       "      <td>4000</td>\n",
       "      <td>25000</td>\n",
       "      <td>5000.0</td>\n",
       "      <td>1200</td>\n",
       "      <td>500.0</td>\n",
       "      <td>在职</td>\n",
       "    </tr>\n",
       "  </tbody>\n",
       "</table>\n",
       "</div>"
      ],
      "text/plain": [
       "   姓名   性别  基本工资   销售业绩    销售提成  公司社保     奖金 在职情况\n",
       "2  小明  NaN  4666  21000  4200.0  1100    NaN   在职\n",
       "3  小红  NaN  4000  25000  5000.0  1200  500.0   在职"
      ]
     },
     "execution_count": 34,
     "metadata": {},
     "output_type": "execute_result"
    }
   ],
   "source": [
    "df[df.姓名.map(lambda x:x.startswith('小'))]"
   ]
  },
  {
   "cell_type": "markdown",
   "metadata": {},
   "source": [
    "**用列表推导式也行**"
   ]
  },
  {
   "cell_type": "code",
   "execution_count": 35,
   "metadata": {},
   "outputs": [
    {
     "data": {
      "text/html": [
       "<div>\n",
       "<style scoped>\n",
       "    .dataframe tbody tr th:only-of-type {\n",
       "        vertical-align: middle;\n",
       "    }\n",
       "\n",
       "    .dataframe tbody tr th {\n",
       "        vertical-align: top;\n",
       "    }\n",
       "\n",
       "    .dataframe thead th {\n",
       "        text-align: right;\n",
       "    }\n",
       "</style>\n",
       "<table border=\"1\" class=\"dataframe\">\n",
       "  <thead>\n",
       "    <tr style=\"text-align: right;\">\n",
       "      <th></th>\n",
       "      <th>姓名</th>\n",
       "      <th>性别</th>\n",
       "      <th>基本工资</th>\n",
       "      <th>销售业绩</th>\n",
       "      <th>销售提成</th>\n",
       "      <th>公司社保</th>\n",
       "      <th>奖金</th>\n",
       "      <th>在职情况</th>\n",
       "    </tr>\n",
       "  </thead>\n",
       "  <tbody>\n",
       "    <tr>\n",
       "      <td>2</td>\n",
       "      <td>小明</td>\n",
       "      <td>NaN</td>\n",
       "      <td>4666</td>\n",
       "      <td>21000</td>\n",
       "      <td>4200.0</td>\n",
       "      <td>1100</td>\n",
       "      <td>NaN</td>\n",
       "      <td>在职</td>\n",
       "    </tr>\n",
       "    <tr>\n",
       "      <td>3</td>\n",
       "      <td>小红</td>\n",
       "      <td>NaN</td>\n",
       "      <td>4000</td>\n",
       "      <td>25000</td>\n",
       "      <td>5000.0</td>\n",
       "      <td>1200</td>\n",
       "      <td>500.0</td>\n",
       "      <td>在职</td>\n",
       "    </tr>\n",
       "  </tbody>\n",
       "</table>\n",
       "</div>"
      ],
      "text/plain": [
       "   姓名   性别  基本工资   销售业绩    销售提成  公司社保     奖金 在职情况\n",
       "2  小明  NaN  4666  21000  4200.0  1100    NaN   在职\n",
       "3  小红  NaN  4000  25000  5000.0  1200  500.0   在职"
      ]
     },
     "execution_count": 35,
     "metadata": {},
     "output_type": "execute_result"
    }
   ],
   "source": [
    "df[[x.startswith('小') for x in df.姓名]]"
   ]
  },
  {
   "cell_type": "code",
   "execution_count": 36,
   "metadata": {},
   "outputs": [
    {
     "data": {
      "text/html": [
       "<div>\n",
       "<style scoped>\n",
       "    .dataframe tbody tr th:only-of-type {\n",
       "        vertical-align: middle;\n",
       "    }\n",
       "\n",
       "    .dataframe tbody tr th {\n",
       "        vertical-align: top;\n",
       "    }\n",
       "\n",
       "    .dataframe thead th {\n",
       "        text-align: right;\n",
       "    }\n",
       "</style>\n",
       "<table border=\"1\" class=\"dataframe\">\n",
       "  <thead>\n",
       "    <tr style=\"text-align: right;\">\n",
       "      <th></th>\n",
       "      <th>姓名</th>\n",
       "      <th>性别</th>\n",
       "      <th>基本工资</th>\n",
       "      <th>销售业绩</th>\n",
       "      <th>销售提成</th>\n",
       "      <th>公司社保</th>\n",
       "      <th>奖金</th>\n",
       "      <th>在职情况</th>\n",
       "    </tr>\n",
       "  </thead>\n",
       "  <tbody>\n",
       "    <tr>\n",
       "      <td>0</td>\n",
       "      <td>张三</td>\n",
       "      <td>男</td>\n",
       "      <td>3550</td>\n",
       "      <td>20000</td>\n",
       "      <td>4000.0</td>\n",
       "      <td>1340</td>\n",
       "      <td>300.0</td>\n",
       "      <td>在职</td>\n",
       "    </tr>\n",
       "    <tr>\n",
       "      <td>1</td>\n",
       "      <td>李四</td>\n",
       "      <td>男</td>\n",
       "      <td>3000</td>\n",
       "      <td>24000</td>\n",
       "      <td>4800.0</td>\n",
       "      <td>2300</td>\n",
       "      <td>0.0</td>\n",
       "      <td>在职</td>\n",
       "    </tr>\n",
       "    <tr>\n",
       "      <td>2</td>\n",
       "      <td>小明</td>\n",
       "      <td>NaN</td>\n",
       "      <td>4666</td>\n",
       "      <td>21000</td>\n",
       "      <td>4200.0</td>\n",
       "      <td>1100</td>\n",
       "      <td>NaN</td>\n",
       "      <td>在职</td>\n",
       "    </tr>\n",
       "    <tr>\n",
       "      <td>3</td>\n",
       "      <td>小红</td>\n",
       "      <td>NaN</td>\n",
       "      <td>4000</td>\n",
       "      <td>25000</td>\n",
       "      <td>5000.0</td>\n",
       "      <td>1200</td>\n",
       "      <td>500.0</td>\n",
       "      <td>在职</td>\n",
       "    </tr>\n",
       "    <tr>\n",
       "      <td>4</td>\n",
       "      <td>王五</td>\n",
       "      <td>男</td>\n",
       "      <td>3700</td>\n",
       "      <td>16000</td>\n",
       "      <td>3200.0</td>\n",
       "      <td>890</td>\n",
       "      <td>300.0</td>\n",
       "      <td>在职</td>\n",
       "    </tr>\n",
       "  </tbody>\n",
       "</table>\n",
       "</div>"
      ],
      "text/plain": [
       "   姓名   性别  基本工资   销售业绩    销售提成  公司社保     奖金 在职情况\n",
       "0  张三    男  3550  20000  4000.0  1340  300.0   在职\n",
       "1  李四    男  3000  24000  4800.0  2300    0.0   在职\n",
       "2  小明  NaN  4666  21000  4200.0  1100    NaN   在职\n",
       "3  小红  NaN  4000  25000  5000.0  1200  500.0   在职\n",
       "4  王五    男  3700  16000  3200.0   890  300.0   在职"
      ]
     },
     "execution_count": 36,
     "metadata": {},
     "output_type": "execute_result"
    }
   ],
   "source": [
    "df"
   ]
  },
  {
   "cell_type": "code",
   "execution_count": null,
   "metadata": {},
   "outputs": [],
   "source": []
  },
  {
   "cell_type": "markdown",
   "metadata": {},
   "source": [
    "## 挑选出性别这列有缺失值得行"
   ]
  },
  {
   "cell_type": "code",
   "execution_count": 37,
   "metadata": {},
   "outputs": [
    {
     "data": {
      "text/plain": [
       "0    False\n",
       "1    False\n",
       "2     True\n",
       "3     True\n",
       "4    False\n",
       "Name: 性别, dtype: bool"
      ]
     },
     "execution_count": 37,
     "metadata": {},
     "output_type": "execute_result"
    }
   ],
   "source": [
    "df.性别.isnull()"
   ]
  },
  {
   "cell_type": "code",
   "execution_count": 38,
   "metadata": {},
   "outputs": [
    {
     "data": {
      "text/html": [
       "<div>\n",
       "<style scoped>\n",
       "    .dataframe tbody tr th:only-of-type {\n",
       "        vertical-align: middle;\n",
       "    }\n",
       "\n",
       "    .dataframe tbody tr th {\n",
       "        vertical-align: top;\n",
       "    }\n",
       "\n",
       "    .dataframe thead th {\n",
       "        text-align: right;\n",
       "    }\n",
       "</style>\n",
       "<table border=\"1\" class=\"dataframe\">\n",
       "  <thead>\n",
       "    <tr style=\"text-align: right;\">\n",
       "      <th></th>\n",
       "      <th>姓名</th>\n",
       "      <th>性别</th>\n",
       "      <th>基本工资</th>\n",
       "      <th>销售业绩</th>\n",
       "      <th>销售提成</th>\n",
       "      <th>公司社保</th>\n",
       "      <th>奖金</th>\n",
       "      <th>在职情况</th>\n",
       "    </tr>\n",
       "  </thead>\n",
       "  <tbody>\n",
       "    <tr>\n",
       "      <td>2</td>\n",
       "      <td>小明</td>\n",
       "      <td>NaN</td>\n",
       "      <td>4666</td>\n",
       "      <td>21000</td>\n",
       "      <td>4200.0</td>\n",
       "      <td>1100</td>\n",
       "      <td>NaN</td>\n",
       "      <td>在职</td>\n",
       "    </tr>\n",
       "    <tr>\n",
       "      <td>3</td>\n",
       "      <td>小红</td>\n",
       "      <td>NaN</td>\n",
       "      <td>4000</td>\n",
       "      <td>25000</td>\n",
       "      <td>5000.0</td>\n",
       "      <td>1200</td>\n",
       "      <td>500.0</td>\n",
       "      <td>在职</td>\n",
       "    </tr>\n",
       "  </tbody>\n",
       "</table>\n",
       "</div>"
      ],
      "text/plain": [
       "   姓名   性别  基本工资   销售业绩    销售提成  公司社保     奖金 在职情况\n",
       "2  小明  NaN  4666  21000  4200.0  1100    NaN   在职\n",
       "3  小红  NaN  4000  25000  5000.0  1200  500.0   在职"
      ]
     },
     "execution_count": 38,
     "metadata": {},
     "output_type": "execute_result"
    }
   ],
   "source": [
    "df[df.性别.isnull()]"
   ]
  },
  {
   "cell_type": "markdown",
   "metadata": {},
   "source": [
    "此方法可用于挑选出某列含有缺失值的的行"
   ]
  },
  {
   "cell_type": "markdown",
   "metadata": {},
   "source": [
    "## 只要含有缺失值就挑选出来"
   ]
  },
  {
   "cell_type": "code",
   "execution_count": 39,
   "metadata": {},
   "outputs": [
    {
     "data": {
      "text/html": [
       "<div>\n",
       "<style scoped>\n",
       "    .dataframe tbody tr th:only-of-type {\n",
       "        vertical-align: middle;\n",
       "    }\n",
       "\n",
       "    .dataframe tbody tr th {\n",
       "        vertical-align: top;\n",
       "    }\n",
       "\n",
       "    .dataframe thead th {\n",
       "        text-align: right;\n",
       "    }\n",
       "</style>\n",
       "<table border=\"1\" class=\"dataframe\">\n",
       "  <thead>\n",
       "    <tr style=\"text-align: right;\">\n",
       "      <th></th>\n",
       "      <th>姓名</th>\n",
       "      <th>性别</th>\n",
       "      <th>基本工资</th>\n",
       "      <th>销售业绩</th>\n",
       "      <th>销售提成</th>\n",
       "      <th>公司社保</th>\n",
       "      <th>奖金</th>\n",
       "      <th>在职情况</th>\n",
       "    </tr>\n",
       "  </thead>\n",
       "  <tbody>\n",
       "    <tr>\n",
       "      <td>0</td>\n",
       "      <td>张三</td>\n",
       "      <td>男</td>\n",
       "      <td>3550</td>\n",
       "      <td>20000</td>\n",
       "      <td>4000.0</td>\n",
       "      <td>1340</td>\n",
       "      <td>300.0</td>\n",
       "      <td>在职</td>\n",
       "    </tr>\n",
       "    <tr>\n",
       "      <td>1</td>\n",
       "      <td>李四</td>\n",
       "      <td>男</td>\n",
       "      <td>3000</td>\n",
       "      <td>24000</td>\n",
       "      <td>4800.0</td>\n",
       "      <td>2300</td>\n",
       "      <td>0.0</td>\n",
       "      <td>在职</td>\n",
       "    </tr>\n",
       "    <tr>\n",
       "      <td>2</td>\n",
       "      <td>小明</td>\n",
       "      <td>NaN</td>\n",
       "      <td>4666</td>\n",
       "      <td>21000</td>\n",
       "      <td>4200.0</td>\n",
       "      <td>1100</td>\n",
       "      <td>NaN</td>\n",
       "      <td>在职</td>\n",
       "    </tr>\n",
       "    <tr>\n",
       "      <td>3</td>\n",
       "      <td>小红</td>\n",
       "      <td>NaN</td>\n",
       "      <td>4000</td>\n",
       "      <td>25000</td>\n",
       "      <td>5000.0</td>\n",
       "      <td>1200</td>\n",
       "      <td>500.0</td>\n",
       "      <td>在职</td>\n",
       "    </tr>\n",
       "    <tr>\n",
       "      <td>4</td>\n",
       "      <td>王五</td>\n",
       "      <td>男</td>\n",
       "      <td>3700</td>\n",
       "      <td>16000</td>\n",
       "      <td>3200.0</td>\n",
       "      <td>890</td>\n",
       "      <td>300.0</td>\n",
       "      <td>在职</td>\n",
       "    </tr>\n",
       "  </tbody>\n",
       "</table>\n",
       "</div>"
      ],
      "text/plain": [
       "   姓名   性别  基本工资   销售业绩    销售提成  公司社保     奖金 在职情况\n",
       "0  张三    男  3550  20000  4000.0  1340  300.0   在职\n",
       "1  李四    男  3000  24000  4800.0  2300    0.0   在职\n",
       "2  小明  NaN  4666  21000  4200.0  1100    NaN   在职\n",
       "3  小红  NaN  4000  25000  5000.0  1200  500.0   在职\n",
       "4  王五    男  3700  16000  3200.0   890  300.0   在职"
      ]
     },
     "execution_count": 39,
     "metadata": {},
     "output_type": "execute_result"
    }
   ],
   "source": [
    "df"
   ]
  },
  {
   "cell_type": "code",
   "execution_count": 40,
   "metadata": {},
   "outputs": [
    {
     "data": {
      "text/html": [
       "<div>\n",
       "<style scoped>\n",
       "    .dataframe tbody tr th:only-of-type {\n",
       "        vertical-align: middle;\n",
       "    }\n",
       "\n",
       "    .dataframe tbody tr th {\n",
       "        vertical-align: top;\n",
       "    }\n",
       "\n",
       "    .dataframe thead th {\n",
       "        text-align: right;\n",
       "    }\n",
       "</style>\n",
       "<table border=\"1\" class=\"dataframe\">\n",
       "  <thead>\n",
       "    <tr style=\"text-align: right;\">\n",
       "      <th></th>\n",
       "      <th>姓名</th>\n",
       "      <th>性别</th>\n",
       "      <th>基本工资</th>\n",
       "      <th>销售业绩</th>\n",
       "      <th>销售提成</th>\n",
       "      <th>公司社保</th>\n",
       "      <th>奖金</th>\n",
       "      <th>在职情况</th>\n",
       "    </tr>\n",
       "  </thead>\n",
       "  <tbody>\n",
       "    <tr>\n",
       "      <td>0</td>\n",
       "      <td>False</td>\n",
       "      <td>False</td>\n",
       "      <td>False</td>\n",
       "      <td>False</td>\n",
       "      <td>False</td>\n",
       "      <td>False</td>\n",
       "      <td>False</td>\n",
       "      <td>False</td>\n",
       "    </tr>\n",
       "    <tr>\n",
       "      <td>1</td>\n",
       "      <td>False</td>\n",
       "      <td>False</td>\n",
       "      <td>False</td>\n",
       "      <td>False</td>\n",
       "      <td>False</td>\n",
       "      <td>False</td>\n",
       "      <td>False</td>\n",
       "      <td>False</td>\n",
       "    </tr>\n",
       "    <tr>\n",
       "      <td>2</td>\n",
       "      <td>False</td>\n",
       "      <td>True</td>\n",
       "      <td>False</td>\n",
       "      <td>False</td>\n",
       "      <td>False</td>\n",
       "      <td>False</td>\n",
       "      <td>True</td>\n",
       "      <td>False</td>\n",
       "    </tr>\n",
       "    <tr>\n",
       "      <td>3</td>\n",
       "      <td>False</td>\n",
       "      <td>True</td>\n",
       "      <td>False</td>\n",
       "      <td>False</td>\n",
       "      <td>False</td>\n",
       "      <td>False</td>\n",
       "      <td>False</td>\n",
       "      <td>False</td>\n",
       "    </tr>\n",
       "    <tr>\n",
       "      <td>4</td>\n",
       "      <td>False</td>\n",
       "      <td>False</td>\n",
       "      <td>False</td>\n",
       "      <td>False</td>\n",
       "      <td>False</td>\n",
       "      <td>False</td>\n",
       "      <td>False</td>\n",
       "      <td>False</td>\n",
       "    </tr>\n",
       "  </tbody>\n",
       "</table>\n",
       "</div>"
      ],
      "text/plain": [
       "      姓名     性别   基本工资   销售业绩   销售提成   公司社保     奖金   在职情况\n",
       "0  False  False  False  False  False  False  False  False\n",
       "1  False  False  False  False  False  False  False  False\n",
       "2  False   True  False  False  False  False   True  False\n",
       "3  False   True  False  False  False  False  False  False\n",
       "4  False  False  False  False  False  False  False  False"
      ]
     },
     "execution_count": 40,
     "metadata": {},
     "output_type": "execute_result"
    }
   ],
   "source": [
    "df.isnull()"
   ]
  },
  {
   "cell_type": "code",
   "execution_count": 41,
   "metadata": {},
   "outputs": [
    {
     "data": {
      "text/plain": [
       "array([[False, False, False, False, False, False, False, False],\n",
       "       [False, False, False, False, False, False, False, False],\n",
       "       [False,  True, False, False, False, False,  True, False],\n",
       "       [False,  True, False, False, False, False, False, False],\n",
       "       [False, False, False, False, False, False, False, False]])"
      ]
     },
     "execution_count": 41,
     "metadata": {},
     "output_type": "execute_result"
    }
   ],
   "source": [
    "df.isnull().values"
   ]
  },
  {
   "cell_type": "code",
   "execution_count": 42,
   "metadata": {},
   "outputs": [
    {
     "data": {
      "text/html": [
       "<div>\n",
       "<style scoped>\n",
       "    .dataframe tbody tr th:only-of-type {\n",
       "        vertical-align: middle;\n",
       "    }\n",
       "\n",
       "    .dataframe tbody tr th {\n",
       "        vertical-align: top;\n",
       "    }\n",
       "\n",
       "    .dataframe thead th {\n",
       "        text-align: right;\n",
       "    }\n",
       "</style>\n",
       "<table border=\"1\" class=\"dataframe\">\n",
       "  <thead>\n",
       "    <tr style=\"text-align: right;\">\n",
       "      <th></th>\n",
       "      <th>姓名</th>\n",
       "      <th>性别</th>\n",
       "      <th>基本工资</th>\n",
       "      <th>销售业绩</th>\n",
       "      <th>销售提成</th>\n",
       "      <th>公司社保</th>\n",
       "      <th>奖金</th>\n",
       "      <th>在职情况</th>\n",
       "    </tr>\n",
       "  </thead>\n",
       "  <tbody>\n",
       "    <tr>\n",
       "      <td>2</td>\n",
       "      <td>小明</td>\n",
       "      <td>NaN</td>\n",
       "      <td>4666</td>\n",
       "      <td>21000</td>\n",
       "      <td>4200.0</td>\n",
       "      <td>1100</td>\n",
       "      <td>NaN</td>\n",
       "      <td>在职</td>\n",
       "    </tr>\n",
       "    <tr>\n",
       "      <td>2</td>\n",
       "      <td>小明</td>\n",
       "      <td>NaN</td>\n",
       "      <td>4666</td>\n",
       "      <td>21000</td>\n",
       "      <td>4200.0</td>\n",
       "      <td>1100</td>\n",
       "      <td>NaN</td>\n",
       "      <td>在职</td>\n",
       "    </tr>\n",
       "    <tr>\n",
       "      <td>3</td>\n",
       "      <td>小红</td>\n",
       "      <td>NaN</td>\n",
       "      <td>4000</td>\n",
       "      <td>25000</td>\n",
       "      <td>5000.0</td>\n",
       "      <td>1200</td>\n",
       "      <td>500.0</td>\n",
       "      <td>在职</td>\n",
       "    </tr>\n",
       "  </tbody>\n",
       "</table>\n",
       "</div>"
      ],
      "text/plain": [
       "   姓名   性别  基本工资   销售业绩    销售提成  公司社保     奖金 在职情况\n",
       "2  小明  NaN  4666  21000  4200.0  1100    NaN   在职\n",
       "2  小明  NaN  4666  21000  4200.0  1100    NaN   在职\n",
       "3  小红  NaN  4000  25000  5000.0  1200  500.0   在职"
      ]
     },
     "execution_count": 42,
     "metadata": {},
     "output_type": "execute_result"
    }
   ],
   "source": [
    "df[df.isnull().values]"
   ]
  },
  {
   "cell_type": "markdown",
   "metadata": {},
   "source": [
    "但是一行如果有多个缺失值会有重复输出， 这又该如何解决？？"
   ]
  },
  {
   "cell_type": "code",
   "execution_count": 43,
   "metadata": {},
   "outputs": [
    {
     "data": {
      "text/html": [
       "<div>\n",
       "<style scoped>\n",
       "    .dataframe tbody tr th:only-of-type {\n",
       "        vertical-align: middle;\n",
       "    }\n",
       "\n",
       "    .dataframe tbody tr th {\n",
       "        vertical-align: top;\n",
       "    }\n",
       "\n",
       "    .dataframe thead th {\n",
       "        text-align: right;\n",
       "    }\n",
       "</style>\n",
       "<table border=\"1\" class=\"dataframe\">\n",
       "  <thead>\n",
       "    <tr style=\"text-align: right;\">\n",
       "      <th></th>\n",
       "      <th>姓名</th>\n",
       "      <th>性别</th>\n",
       "      <th>基本工资</th>\n",
       "      <th>销售业绩</th>\n",
       "      <th>销售提成</th>\n",
       "      <th>公司社保</th>\n",
       "      <th>奖金</th>\n",
       "      <th>在职情况</th>\n",
       "    </tr>\n",
       "  </thead>\n",
       "  <tbody>\n",
       "    <tr>\n",
       "      <td>2</td>\n",
       "      <td>小明</td>\n",
       "      <td>NaN</td>\n",
       "      <td>4666</td>\n",
       "      <td>21000</td>\n",
       "      <td>4200.0</td>\n",
       "      <td>1100</td>\n",
       "      <td>NaN</td>\n",
       "      <td>在职</td>\n",
       "    </tr>\n",
       "    <tr>\n",
       "      <td>3</td>\n",
       "      <td>小红</td>\n",
       "      <td>NaN</td>\n",
       "      <td>4000</td>\n",
       "      <td>25000</td>\n",
       "      <td>5000.0</td>\n",
       "      <td>1200</td>\n",
       "      <td>500.0</td>\n",
       "      <td>在职</td>\n",
       "    </tr>\n",
       "  </tbody>\n",
       "</table>\n",
       "</div>"
      ],
      "text/plain": [
       "   姓名   性别  基本工资   销售业绩    销售提成  公司社保     奖金 在职情况\n",
       "2  小明  NaN  4666  21000  4200.0  1100    NaN   在职\n",
       "3  小红  NaN  4000  25000  5000.0  1200  500.0   在职"
      ]
     },
     "execution_count": 43,
     "metadata": {},
     "output_type": "execute_result"
    }
   ],
   "source": [
    "df[df.isnull().values].drop_duplicates()"
   ]
  },
  {
   "cell_type": "markdown",
   "metadata": {},
   "source": [
    "问题是有了缺失值该如何处理， 这个部分非常重要， 我们将在最后的部分为大家介绍数据预处理与特征工程！"
   ]
  },
  {
   "cell_type": "code",
   "execution_count": null,
   "metadata": {},
   "outputs": [],
   "source": []
  }
 ],
 "metadata": {
  "kernelspec": {
   "display_name": "Python 3",
   "language": "python",
   "name": "python3"
  },
  "language_info": {
   "codemirror_mode": {
    "name": "ipython",
    "version": 3
   },
   "file_extension": ".py",
   "mimetype": "text/x-python",
   "name": "python",
   "nbconvert_exporter": "python",
   "pygments_lexer": "ipython3",
   "version": "3.7.4"
  },
  "toc": {
   "base_numbering": 1,
   "nav_menu": {},
   "number_sections": true,
   "sideBar": true,
   "skip_h1_title": false,
   "title_cell": "Table of Contents",
   "title_sidebar": "Contents",
   "toc_cell": true,
   "toc_position": {
    "height": "calc(100% - 180px)",
    "left": "10px",
    "top": "150px",
    "width": "280.319px"
   },
   "toc_section_display": true,
   "toc_window_display": true
  }
 },
 "nbformat": 4,
 "nbformat_minor": 2
}
