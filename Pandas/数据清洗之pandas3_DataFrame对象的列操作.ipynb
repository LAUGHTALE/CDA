{
 "cells": [
  {
   "cell_type": "markdown",
   "metadata": {
    "toc": true
   },
   "source": [
    "<h1>Table of Contents<span class=\"tocSkip\"></span></h1>\n",
    "<div class=\"toc\"><ul class=\"toc-item\"><li><span><a href=\"#DataFrame对象的列操作\" data-toc-modified-id=\"DataFrame对象的列操作-1\"><span class=\"toc-item-num\">1&nbsp;&nbsp;</span>DataFrame对象的列操作</a></span><ul class=\"toc-item\"><li><span><a href=\"#增加列\" data-toc-modified-id=\"增加列-1.1\"><span class=\"toc-item-num\">1.1&nbsp;&nbsp;</span>增加列</a></span></li><li><span><a href=\"#删除列\" data-toc-modified-id=\"删除列-1.2\"><span class=\"toc-item-num\">1.2&nbsp;&nbsp;</span>删除列</a></span><ul class=\"toc-item\"><li><span><a href=\"#del-df[要删除的列名]\" data-toc-modified-id=\"del-df[要删除的列名]-1.2.1\"><span class=\"toc-item-num\">1.2.1&nbsp;&nbsp;</span>del df[要删除的列名]</a></span></li><li><span><a href=\"#df.pop(要删除的列名)\" data-toc-modified-id=\"df.pop(要删除的列名)-1.2.2\"><span class=\"toc-item-num\">1.2.2&nbsp;&nbsp;</span>df.pop(要删除的列名)</a></span></li><li><span><a href=\"#df.drop(coumns=要删除的列名)\" data-toc-modified-id=\"df.drop(coumns=要删除的列名)-1.2.3\"><span class=\"toc-item-num\">1.2.3&nbsp;&nbsp;</span>df.drop(coumns=要删除的列名)</a></span></li></ul></li><li><span><a href=\"#修改列\" data-toc-modified-id=\"修改列-1.3\"><span class=\"toc-item-num\">1.3&nbsp;&nbsp;</span>修改列</a></span><ul class=\"toc-item\"><li><span><a href=\"#修改列的值-df[要修改的列]-=-新值\" data-toc-modified-id=\"修改列的值-df[要修改的列]-=-新值-1.3.1\"><span class=\"toc-item-num\">1.3.1&nbsp;&nbsp;</span>修改列的值 df[要修改的列] = 新值</a></span></li><li><span><a href=\"#修改列的名\" data-toc-modified-id=\"修改列的名-1.3.2\"><span class=\"toc-item-num\">1.3.2&nbsp;&nbsp;</span>修改列的名</a></span><ul class=\"toc-item\"><li><span><a href=\"#df.columns-=--包含新列名的列表\" data-toc-modified-id=\"df.columns-=--包含新列名的列表-1.3.2.1\"><span class=\"toc-item-num\">1.3.2.1&nbsp;&nbsp;</span>df.columns =  包含新列名的列表</a></span></li><li><span><a href=\"#df.rename()\" data-toc-modified-id=\"df.rename()-1.3.2.2\"><span class=\"toc-item-num\">1.3.2.2&nbsp;&nbsp;</span>df.rename()</a></span></li></ul></li></ul></li><li><span><a href=\"#移动列\" data-toc-modified-id=\"移动列-1.4\"><span class=\"toc-item-num\">1.4&nbsp;&nbsp;</span>移动列</a></span><ul class=\"toc-item\"><li><span><a href=\"#df.insert(要插入的索引位置,-列名，-该列的值)\" data-toc-modified-id=\"df.insert(要插入的索引位置,-列名，-该列的值)-1.4.1\"><span class=\"toc-item-num\">1.4.1&nbsp;&nbsp;</span>df.insert(要插入的索引位置, 列名， 该列的值)</a></span></li></ul></li></ul></li></ul></div>"
   ]
  },
  {
   "cell_type": "code",
   "execution_count": 219,
   "metadata": {},
   "outputs": [],
   "source": [
    "#全部行都能输出\n",
    "from IPython.core.interactiveshell import InteractiveShell\n",
    "InteractiveShell.ast_node_interactivity = \"all\""
   ]
  },
  {
   "cell_type": "code",
   "execution_count": 220,
   "metadata": {},
   "outputs": [],
   "source": [
    "import numpy as np\n",
    "import pandas as pd"
   ]
  },
  {
   "cell_type": "markdown",
   "metadata": {},
   "source": [
    "# DataFrame对象的列操作"
   ]
  },
  {
   "cell_type": "code",
   "execution_count": 221,
   "metadata": {},
   "outputs": [
    {
     "data": {
      "text/html": [
       "<div>\n",
       "<style scoped>\n",
       "    .dataframe tbody tr th:only-of-type {\n",
       "        vertical-align: middle;\n",
       "    }\n",
       "\n",
       "    .dataframe tbody tr th {\n",
       "        vertical-align: top;\n",
       "    }\n",
       "\n",
       "    .dataframe thead th {\n",
       "        text-align: right;\n",
       "    }\n",
       "</style>\n",
       "<table border=\"1\" class=\"dataframe\">\n",
       "  <thead>\n",
       "    <tr style=\"text-align: right;\">\n",
       "      <th></th>\n",
       "      <th>员工姓名</th>\n",
       "      <th>基本工资</th>\n",
       "      <th>销售业绩</th>\n",
       "    </tr>\n",
       "  </thead>\n",
       "  <tbody>\n",
       "    <tr>\n",
       "      <td>0</td>\n",
       "      <td>小明</td>\n",
       "      <td>3500</td>\n",
       "      <td>8000</td>\n",
       "    </tr>\n",
       "    <tr>\n",
       "      <td>1</td>\n",
       "      <td>小李</td>\n",
       "      <td>4000</td>\n",
       "      <td>12000</td>\n",
       "    </tr>\n",
       "    <tr>\n",
       "      <td>2</td>\n",
       "      <td>小红</td>\n",
       "      <td>4500</td>\n",
       "      <td>6000</td>\n",
       "    </tr>\n",
       "  </tbody>\n",
       "</table>\n",
       "</div>"
      ],
      "text/plain": [
       "  员工姓名  基本工资   销售业绩\n",
       "0   小明  3500   8000\n",
       "1   小李  4000  12000\n",
       "2   小红  4500   6000"
      ]
     },
     "execution_count": 221,
     "metadata": {},
     "output_type": "execute_result"
    }
   ],
   "source": [
    "df = pd.DataFrame({'员工姓名':['小明', '小李', '小红'], \n",
    "                     '基本工资':[3500, 4000, 4500], \n",
    "                     '销售业绩':[8000, 12000, 6000]})\n",
    "df"
   ]
  },
  {
   "cell_type": "markdown",
   "metadata": {},
   "source": [
    "## 增加列  \n",
    "比如我们增加一列 **销售提成**， 提成是销售业绩的5个点， 也是5%"
   ]
  },
  {
   "cell_type": "code",
   "execution_count": 222,
   "metadata": {},
   "outputs": [
    {
     "data": {
      "text/plain": [
       "0     8000\n",
       "1    12000\n",
       "2     6000\n",
       "Name: 销售业绩, dtype: int64"
      ]
     },
     "execution_count": 222,
     "metadata": {},
     "output_type": "execute_result"
    }
   ],
   "source": [
    "df.销售业绩  # 这样可以单独提取出一列， 单独的一个是Series结构"
   ]
  },
  {
   "cell_type": "code",
   "execution_count": 223,
   "metadata": {},
   "outputs": [
    {
     "data": {
      "text/plain": [
       "0    400.0\n",
       "1    600.0\n",
       "2    300.0\n",
       "Name: 销售业绩, dtype: float64"
      ]
     },
     "execution_count": 223,
     "metadata": {},
     "output_type": "execute_result"
    }
   ],
   "source": [
    "df.销售业绩*0.05"
   ]
  },
  {
   "cell_type": "code",
   "execution_count": 224,
   "metadata": {},
   "outputs": [],
   "source": [
    "df['销售提成'] = df.销售业绩*0.05"
   ]
  },
  {
   "cell_type": "code",
   "execution_count": 225,
   "metadata": {},
   "outputs": [
    {
     "data": {
      "text/html": [
       "<div>\n",
       "<style scoped>\n",
       "    .dataframe tbody tr th:only-of-type {\n",
       "        vertical-align: middle;\n",
       "    }\n",
       "\n",
       "    .dataframe tbody tr th {\n",
       "        vertical-align: top;\n",
       "    }\n",
       "\n",
       "    .dataframe thead th {\n",
       "        text-align: right;\n",
       "    }\n",
       "</style>\n",
       "<table border=\"1\" class=\"dataframe\">\n",
       "  <thead>\n",
       "    <tr style=\"text-align: right;\">\n",
       "      <th></th>\n",
       "      <th>员工姓名</th>\n",
       "      <th>基本工资</th>\n",
       "      <th>销售业绩</th>\n",
       "      <th>销售提成</th>\n",
       "    </tr>\n",
       "  </thead>\n",
       "  <tbody>\n",
       "    <tr>\n",
       "      <td>0</td>\n",
       "      <td>小明</td>\n",
       "      <td>3500</td>\n",
       "      <td>8000</td>\n",
       "      <td>400.0</td>\n",
       "    </tr>\n",
       "    <tr>\n",
       "      <td>1</td>\n",
       "      <td>小李</td>\n",
       "      <td>4000</td>\n",
       "      <td>12000</td>\n",
       "      <td>600.0</td>\n",
       "    </tr>\n",
       "    <tr>\n",
       "      <td>2</td>\n",
       "      <td>小红</td>\n",
       "      <td>4500</td>\n",
       "      <td>6000</td>\n",
       "      <td>300.0</td>\n",
       "    </tr>\n",
       "  </tbody>\n",
       "</table>\n",
       "</div>"
      ],
      "text/plain": [
       "  员工姓名  基本工资   销售业绩   销售提成\n",
       "0   小明  3500   8000  400.0\n",
       "1   小李  4000  12000  600.0\n",
       "2   小红  4500   6000  300.0"
      ]
     },
     "execution_count": 225,
     "metadata": {},
     "output_type": "execute_result"
    }
   ],
   "source": [
    "df"
   ]
  },
  {
   "cell_type": "markdown",
   "metadata": {},
   "source": [
    "再创建一列 **应发工资** = 基本工资+销售提成"
   ]
  },
  {
   "cell_type": "code",
   "execution_count": 226,
   "metadata": {},
   "outputs": [],
   "source": [
    "df['应发工资'] = df.基本工资+df.销售提成"
   ]
  },
  {
   "cell_type": "code",
   "execution_count": 227,
   "metadata": {},
   "outputs": [
    {
     "data": {
      "text/html": [
       "<div>\n",
       "<style scoped>\n",
       "    .dataframe tbody tr th:only-of-type {\n",
       "        vertical-align: middle;\n",
       "    }\n",
       "\n",
       "    .dataframe tbody tr th {\n",
       "        vertical-align: top;\n",
       "    }\n",
       "\n",
       "    .dataframe thead th {\n",
       "        text-align: right;\n",
       "    }\n",
       "</style>\n",
       "<table border=\"1\" class=\"dataframe\">\n",
       "  <thead>\n",
       "    <tr style=\"text-align: right;\">\n",
       "      <th></th>\n",
       "      <th>员工姓名</th>\n",
       "      <th>基本工资</th>\n",
       "      <th>销售业绩</th>\n",
       "      <th>销售提成</th>\n",
       "      <th>应发工资</th>\n",
       "    </tr>\n",
       "  </thead>\n",
       "  <tbody>\n",
       "    <tr>\n",
       "      <td>0</td>\n",
       "      <td>小明</td>\n",
       "      <td>3500</td>\n",
       "      <td>8000</td>\n",
       "      <td>400.0</td>\n",
       "      <td>3900.0</td>\n",
       "    </tr>\n",
       "    <tr>\n",
       "      <td>1</td>\n",
       "      <td>小李</td>\n",
       "      <td>4000</td>\n",
       "      <td>12000</td>\n",
       "      <td>600.0</td>\n",
       "      <td>4600.0</td>\n",
       "    </tr>\n",
       "    <tr>\n",
       "      <td>2</td>\n",
       "      <td>小红</td>\n",
       "      <td>4500</td>\n",
       "      <td>6000</td>\n",
       "      <td>300.0</td>\n",
       "      <td>4800.0</td>\n",
       "    </tr>\n",
       "  </tbody>\n",
       "</table>\n",
       "</div>"
      ],
      "text/plain": [
       "  员工姓名  基本工资   销售业绩   销售提成    应发工资\n",
       "0   小明  3500   8000  400.0  3900.0\n",
       "1   小李  4000  12000  600.0  4600.0\n",
       "2   小红  4500   6000  300.0  4800.0"
      ]
     },
     "execution_count": 227,
     "metadata": {},
     "output_type": "execute_result"
    }
   ],
   "source": [
    "df"
   ]
  },
  {
   "cell_type": "markdown",
   "metadata": {},
   "source": [
    "增加一列， **出勤天数**  \n",
    "小明 24  \n",
    "小李 22   \n",
    "小红 23"
   ]
  },
  {
   "cell_type": "code",
   "execution_count": 228,
   "metadata": {},
   "outputs": [],
   "source": [
    "df['出勤天数'] = [24, 22, 23]"
   ]
  },
  {
   "cell_type": "code",
   "execution_count": 229,
   "metadata": {},
   "outputs": [
    {
     "data": {
      "text/html": [
       "<div>\n",
       "<style scoped>\n",
       "    .dataframe tbody tr th:only-of-type {\n",
       "        vertical-align: middle;\n",
       "    }\n",
       "\n",
       "    .dataframe tbody tr th {\n",
       "        vertical-align: top;\n",
       "    }\n",
       "\n",
       "    .dataframe thead th {\n",
       "        text-align: right;\n",
       "    }\n",
       "</style>\n",
       "<table border=\"1\" class=\"dataframe\">\n",
       "  <thead>\n",
       "    <tr style=\"text-align: right;\">\n",
       "      <th></th>\n",
       "      <th>员工姓名</th>\n",
       "      <th>基本工资</th>\n",
       "      <th>销售业绩</th>\n",
       "      <th>销售提成</th>\n",
       "      <th>应发工资</th>\n",
       "      <th>出勤天数</th>\n",
       "    </tr>\n",
       "  </thead>\n",
       "  <tbody>\n",
       "    <tr>\n",
       "      <td>0</td>\n",
       "      <td>小明</td>\n",
       "      <td>3500</td>\n",
       "      <td>8000</td>\n",
       "      <td>400.0</td>\n",
       "      <td>3900.0</td>\n",
       "      <td>24</td>\n",
       "    </tr>\n",
       "    <tr>\n",
       "      <td>1</td>\n",
       "      <td>小李</td>\n",
       "      <td>4000</td>\n",
       "      <td>12000</td>\n",
       "      <td>600.0</td>\n",
       "      <td>4600.0</td>\n",
       "      <td>22</td>\n",
       "    </tr>\n",
       "    <tr>\n",
       "      <td>2</td>\n",
       "      <td>小红</td>\n",
       "      <td>4500</td>\n",
       "      <td>6000</td>\n",
       "      <td>300.0</td>\n",
       "      <td>4800.0</td>\n",
       "      <td>23</td>\n",
       "    </tr>\n",
       "  </tbody>\n",
       "</table>\n",
       "</div>"
      ],
      "text/plain": [
       "  员工姓名  基本工资   销售业绩   销售提成    应发工资  出勤天数\n",
       "0   小明  3500   8000  400.0  3900.0    24\n",
       "1   小李  4000  12000  600.0  4600.0    22\n",
       "2   小红  4500   6000  300.0  4800.0    23"
      ]
     },
     "execution_count": 229,
     "metadata": {},
     "output_type": "execute_result"
    }
   ],
   "source": [
    "df"
   ]
  },
  {
   "cell_type": "markdown",
   "metadata": {},
   "source": [
    "## 删除列"
   ]
  },
  {
   "cell_type": "markdown",
   "metadata": {},
   "source": [
    "### del df[要删除的列名]  \n",
    "会直接在原数据上修改"
   ]
  },
  {
   "cell_type": "code",
   "execution_count": 230,
   "metadata": {},
   "outputs": [
    {
     "data": {
      "text/html": [
       "<div>\n",
       "<style scoped>\n",
       "    .dataframe tbody tr th:only-of-type {\n",
       "        vertical-align: middle;\n",
       "    }\n",
       "\n",
       "    .dataframe tbody tr th {\n",
       "        vertical-align: top;\n",
       "    }\n",
       "\n",
       "    .dataframe thead th {\n",
       "        text-align: right;\n",
       "    }\n",
       "</style>\n",
       "<table border=\"1\" class=\"dataframe\">\n",
       "  <thead>\n",
       "    <tr style=\"text-align: right;\">\n",
       "      <th></th>\n",
       "      <th>员工姓名</th>\n",
       "      <th>基本工资</th>\n",
       "      <th>销售业绩</th>\n",
       "      <th>销售提成</th>\n",
       "      <th>应发工资</th>\n",
       "      <th>出勤天数</th>\n",
       "      <th>a</th>\n",
       "    </tr>\n",
       "  </thead>\n",
       "  <tbody>\n",
       "    <tr>\n",
       "      <td>0</td>\n",
       "      <td>小明</td>\n",
       "      <td>3500</td>\n",
       "      <td>8000</td>\n",
       "      <td>400.0</td>\n",
       "      <td>3900.0</td>\n",
       "      <td>24</td>\n",
       "      <td>1</td>\n",
       "    </tr>\n",
       "    <tr>\n",
       "      <td>1</td>\n",
       "      <td>小李</td>\n",
       "      <td>4000</td>\n",
       "      <td>12000</td>\n",
       "      <td>600.0</td>\n",
       "      <td>4600.0</td>\n",
       "      <td>22</td>\n",
       "      <td>2</td>\n",
       "    </tr>\n",
       "    <tr>\n",
       "      <td>2</td>\n",
       "      <td>小红</td>\n",
       "      <td>4500</td>\n",
       "      <td>6000</td>\n",
       "      <td>300.0</td>\n",
       "      <td>4800.0</td>\n",
       "      <td>23</td>\n",
       "      <td>3</td>\n",
       "    </tr>\n",
       "  </tbody>\n",
       "</table>\n",
       "</div>"
      ],
      "text/plain": [
       "  员工姓名  基本工资   销售业绩   销售提成    应发工资  出勤天数  a\n",
       "0   小明  3500   8000  400.0  3900.0    24  1\n",
       "1   小李  4000  12000  600.0  4600.0    22  2\n",
       "2   小红  4500   6000  300.0  4800.0    23  3"
      ]
     },
     "execution_count": 230,
     "metadata": {},
     "output_type": "execute_result"
    }
   ],
   "source": [
    "df['a'] = [1, 2, 3]\n",
    "df"
   ]
  },
  {
   "cell_type": "code",
   "execution_count": 231,
   "metadata": {},
   "outputs": [],
   "source": [
    "del df['a']  # 直接在原表上进行删除"
   ]
  },
  {
   "cell_type": "code",
   "execution_count": 232,
   "metadata": {},
   "outputs": [
    {
     "data": {
      "text/html": [
       "<div>\n",
       "<style scoped>\n",
       "    .dataframe tbody tr th:only-of-type {\n",
       "        vertical-align: middle;\n",
       "    }\n",
       "\n",
       "    .dataframe tbody tr th {\n",
       "        vertical-align: top;\n",
       "    }\n",
       "\n",
       "    .dataframe thead th {\n",
       "        text-align: right;\n",
       "    }\n",
       "</style>\n",
       "<table border=\"1\" class=\"dataframe\">\n",
       "  <thead>\n",
       "    <tr style=\"text-align: right;\">\n",
       "      <th></th>\n",
       "      <th>员工姓名</th>\n",
       "      <th>基本工资</th>\n",
       "      <th>销售业绩</th>\n",
       "      <th>销售提成</th>\n",
       "      <th>应发工资</th>\n",
       "      <th>出勤天数</th>\n",
       "    </tr>\n",
       "  </thead>\n",
       "  <tbody>\n",
       "    <tr>\n",
       "      <td>0</td>\n",
       "      <td>小明</td>\n",
       "      <td>3500</td>\n",
       "      <td>8000</td>\n",
       "      <td>400.0</td>\n",
       "      <td>3900.0</td>\n",
       "      <td>24</td>\n",
       "    </tr>\n",
       "    <tr>\n",
       "      <td>1</td>\n",
       "      <td>小李</td>\n",
       "      <td>4000</td>\n",
       "      <td>12000</td>\n",
       "      <td>600.0</td>\n",
       "      <td>4600.0</td>\n",
       "      <td>22</td>\n",
       "    </tr>\n",
       "    <tr>\n",
       "      <td>2</td>\n",
       "      <td>小红</td>\n",
       "      <td>4500</td>\n",
       "      <td>6000</td>\n",
       "      <td>300.0</td>\n",
       "      <td>4800.0</td>\n",
       "      <td>23</td>\n",
       "    </tr>\n",
       "  </tbody>\n",
       "</table>\n",
       "</div>"
      ],
      "text/plain": [
       "  员工姓名  基本工资   销售业绩   销售提成    应发工资  出勤天数\n",
       "0   小明  3500   8000  400.0  3900.0    24\n",
       "1   小李  4000  12000  600.0  4600.0    22\n",
       "2   小红  4500   6000  300.0  4800.0    23"
      ]
     },
     "execution_count": 232,
     "metadata": {},
     "output_type": "execute_result"
    }
   ],
   "source": [
    "df"
   ]
  },
  {
   "cell_type": "markdown",
   "metadata": {},
   "source": [
    "### df.pop(要删除的列名)  \n",
    "直接会在原表上删除该列， 并会以Series返回该列"
   ]
  },
  {
   "cell_type": "code",
   "execution_count": 233,
   "metadata": {},
   "outputs": [
    {
     "data": {
      "text/html": [
       "<div>\n",
       "<style scoped>\n",
       "    .dataframe tbody tr th:only-of-type {\n",
       "        vertical-align: middle;\n",
       "    }\n",
       "\n",
       "    .dataframe tbody tr th {\n",
       "        vertical-align: top;\n",
       "    }\n",
       "\n",
       "    .dataframe thead th {\n",
       "        text-align: right;\n",
       "    }\n",
       "</style>\n",
       "<table border=\"1\" class=\"dataframe\">\n",
       "  <thead>\n",
       "    <tr style=\"text-align: right;\">\n",
       "      <th></th>\n",
       "      <th>员工姓名</th>\n",
       "      <th>基本工资</th>\n",
       "      <th>销售业绩</th>\n",
       "      <th>销售提成</th>\n",
       "      <th>应发工资</th>\n",
       "      <th>出勤天数</th>\n",
       "    </tr>\n",
       "  </thead>\n",
       "  <tbody>\n",
       "    <tr>\n",
       "      <td>0</td>\n",
       "      <td>小明</td>\n",
       "      <td>3500</td>\n",
       "      <td>8000</td>\n",
       "      <td>400.0</td>\n",
       "      <td>3900.0</td>\n",
       "      <td>24</td>\n",
       "    </tr>\n",
       "    <tr>\n",
       "      <td>1</td>\n",
       "      <td>小李</td>\n",
       "      <td>4000</td>\n",
       "      <td>12000</td>\n",
       "      <td>600.0</td>\n",
       "      <td>4600.0</td>\n",
       "      <td>22</td>\n",
       "    </tr>\n",
       "    <tr>\n",
       "      <td>2</td>\n",
       "      <td>小红</td>\n",
       "      <td>4500</td>\n",
       "      <td>6000</td>\n",
       "      <td>300.0</td>\n",
       "      <td>4800.0</td>\n",
       "      <td>23</td>\n",
       "    </tr>\n",
       "  </tbody>\n",
       "</table>\n",
       "</div>"
      ],
      "text/plain": [
       "  员工姓名  基本工资   销售业绩   销售提成    应发工资  出勤天数\n",
       "0   小明  3500   8000  400.0  3900.0    24\n",
       "1   小李  4000  12000  600.0  4600.0    22\n",
       "2   小红  4500   6000  300.0  4800.0    23"
      ]
     },
     "execution_count": 233,
     "metadata": {},
     "output_type": "execute_result"
    }
   ],
   "source": [
    "df"
   ]
  },
  {
   "cell_type": "code",
   "execution_count": 234,
   "metadata": {},
   "outputs": [],
   "source": [
    "df['A'] = 3  # 如果是一个标量会自动全部用这个标量填充"
   ]
  },
  {
   "cell_type": "code",
   "execution_count": 235,
   "metadata": {},
   "outputs": [
    {
     "data": {
      "text/html": [
       "<div>\n",
       "<style scoped>\n",
       "    .dataframe tbody tr th:only-of-type {\n",
       "        vertical-align: middle;\n",
       "    }\n",
       "\n",
       "    .dataframe tbody tr th {\n",
       "        vertical-align: top;\n",
       "    }\n",
       "\n",
       "    .dataframe thead th {\n",
       "        text-align: right;\n",
       "    }\n",
       "</style>\n",
       "<table border=\"1\" class=\"dataframe\">\n",
       "  <thead>\n",
       "    <tr style=\"text-align: right;\">\n",
       "      <th></th>\n",
       "      <th>员工姓名</th>\n",
       "      <th>基本工资</th>\n",
       "      <th>销售业绩</th>\n",
       "      <th>销售提成</th>\n",
       "      <th>应发工资</th>\n",
       "      <th>出勤天数</th>\n",
       "      <th>A</th>\n",
       "    </tr>\n",
       "  </thead>\n",
       "  <tbody>\n",
       "    <tr>\n",
       "      <td>0</td>\n",
       "      <td>小明</td>\n",
       "      <td>3500</td>\n",
       "      <td>8000</td>\n",
       "      <td>400.0</td>\n",
       "      <td>3900.0</td>\n",
       "      <td>24</td>\n",
       "      <td>3</td>\n",
       "    </tr>\n",
       "    <tr>\n",
       "      <td>1</td>\n",
       "      <td>小李</td>\n",
       "      <td>4000</td>\n",
       "      <td>12000</td>\n",
       "      <td>600.0</td>\n",
       "      <td>4600.0</td>\n",
       "      <td>22</td>\n",
       "      <td>3</td>\n",
       "    </tr>\n",
       "    <tr>\n",
       "      <td>2</td>\n",
       "      <td>小红</td>\n",
       "      <td>4500</td>\n",
       "      <td>6000</td>\n",
       "      <td>300.0</td>\n",
       "      <td>4800.0</td>\n",
       "      <td>23</td>\n",
       "      <td>3</td>\n",
       "    </tr>\n",
       "  </tbody>\n",
       "</table>\n",
       "</div>"
      ],
      "text/plain": [
       "  员工姓名  基本工资   销售业绩   销售提成    应发工资  出勤天数  A\n",
       "0   小明  3500   8000  400.0  3900.0    24  3\n",
       "1   小李  4000  12000  600.0  4600.0    22  3\n",
       "2   小红  4500   6000  300.0  4800.0    23  3"
      ]
     },
     "execution_count": 235,
     "metadata": {},
     "output_type": "execute_result"
    }
   ],
   "source": [
    "df"
   ]
  },
  {
   "cell_type": "code",
   "execution_count": 236,
   "metadata": {},
   "outputs": [
    {
     "data": {
      "text/plain": [
       "0    3\n",
       "1    3\n",
       "2    3\n",
       "Name: A, dtype: int64"
      ]
     },
     "execution_count": 236,
     "metadata": {},
     "output_type": "execute_result"
    }
   ],
   "source": [
    "df.pop('A')  # 直接会在原表上删除该列， 并会以Series返回该列"
   ]
  },
  {
   "cell_type": "code",
   "execution_count": 237,
   "metadata": {},
   "outputs": [
    {
     "data": {
      "text/html": [
       "<div>\n",
       "<style scoped>\n",
       "    .dataframe tbody tr th:only-of-type {\n",
       "        vertical-align: middle;\n",
       "    }\n",
       "\n",
       "    .dataframe tbody tr th {\n",
       "        vertical-align: top;\n",
       "    }\n",
       "\n",
       "    .dataframe thead th {\n",
       "        text-align: right;\n",
       "    }\n",
       "</style>\n",
       "<table border=\"1\" class=\"dataframe\">\n",
       "  <thead>\n",
       "    <tr style=\"text-align: right;\">\n",
       "      <th></th>\n",
       "      <th>员工姓名</th>\n",
       "      <th>基本工资</th>\n",
       "      <th>销售业绩</th>\n",
       "      <th>销售提成</th>\n",
       "      <th>应发工资</th>\n",
       "      <th>出勤天数</th>\n",
       "    </tr>\n",
       "  </thead>\n",
       "  <tbody>\n",
       "    <tr>\n",
       "      <td>0</td>\n",
       "      <td>小明</td>\n",
       "      <td>3500</td>\n",
       "      <td>8000</td>\n",
       "      <td>400.0</td>\n",
       "      <td>3900.0</td>\n",
       "      <td>24</td>\n",
       "    </tr>\n",
       "    <tr>\n",
       "      <td>1</td>\n",
       "      <td>小李</td>\n",
       "      <td>4000</td>\n",
       "      <td>12000</td>\n",
       "      <td>600.0</td>\n",
       "      <td>4600.0</td>\n",
       "      <td>22</td>\n",
       "    </tr>\n",
       "    <tr>\n",
       "      <td>2</td>\n",
       "      <td>小红</td>\n",
       "      <td>4500</td>\n",
       "      <td>6000</td>\n",
       "      <td>300.0</td>\n",
       "      <td>4800.0</td>\n",
       "      <td>23</td>\n",
       "    </tr>\n",
       "  </tbody>\n",
       "</table>\n",
       "</div>"
      ],
      "text/plain": [
       "  员工姓名  基本工资   销售业绩   销售提成    应发工资  出勤天数\n",
       "0   小明  3500   8000  400.0  3900.0    24\n",
       "1   小李  4000  12000  600.0  4600.0    22\n",
       "2   小红  4500   6000  300.0  4800.0    23"
      ]
     },
     "execution_count": 237,
     "metadata": {},
     "output_type": "execute_result"
    }
   ],
   "source": [
    "df"
   ]
  },
  {
   "cell_type": "markdown",
   "metadata": {},
   "source": [
    "### df.drop(coumns=要删除的列名) "
   ]
  },
  {
   "cell_type": "code",
   "execution_count": 238,
   "metadata": {},
   "outputs": [
    {
     "data": {
      "text/html": [
       "<div>\n",
       "<style scoped>\n",
       "    .dataframe tbody tr th:only-of-type {\n",
       "        vertical-align: middle;\n",
       "    }\n",
       "\n",
       "    .dataframe tbody tr th {\n",
       "        vertical-align: top;\n",
       "    }\n",
       "\n",
       "    .dataframe thead th {\n",
       "        text-align: right;\n",
       "    }\n",
       "</style>\n",
       "<table border=\"1\" class=\"dataframe\">\n",
       "  <thead>\n",
       "    <tr style=\"text-align: right;\">\n",
       "      <th></th>\n",
       "      <th>员工姓名</th>\n",
       "      <th>基本工资</th>\n",
       "      <th>销售业绩</th>\n",
       "      <th>销售提成</th>\n",
       "      <th>应发工资</th>\n",
       "      <th>出勤天数</th>\n",
       "    </tr>\n",
       "  </thead>\n",
       "  <tbody>\n",
       "    <tr>\n",
       "      <td>0</td>\n",
       "      <td>小明</td>\n",
       "      <td>3500</td>\n",
       "      <td>8000</td>\n",
       "      <td>400.0</td>\n",
       "      <td>3900.0</td>\n",
       "      <td>24</td>\n",
       "    </tr>\n",
       "    <tr>\n",
       "      <td>1</td>\n",
       "      <td>小李</td>\n",
       "      <td>4000</td>\n",
       "      <td>12000</td>\n",
       "      <td>600.0</td>\n",
       "      <td>4600.0</td>\n",
       "      <td>22</td>\n",
       "    </tr>\n",
       "    <tr>\n",
       "      <td>2</td>\n",
       "      <td>小红</td>\n",
       "      <td>4500</td>\n",
       "      <td>6000</td>\n",
       "      <td>300.0</td>\n",
       "      <td>4800.0</td>\n",
       "      <td>23</td>\n",
       "    </tr>\n",
       "  </tbody>\n",
       "</table>\n",
       "</div>"
      ],
      "text/plain": [
       "  员工姓名  基本工资   销售业绩   销售提成    应发工资  出勤天数\n",
       "0   小明  3500   8000  400.0  3900.0    24\n",
       "1   小李  4000  12000  600.0  4600.0    22\n",
       "2   小红  4500   6000  300.0  4800.0    23"
      ]
     },
     "execution_count": 238,
     "metadata": {},
     "output_type": "execute_result"
    }
   ],
   "source": [
    "df"
   ]
  },
  {
   "cell_type": "code",
   "execution_count": 239,
   "metadata": {},
   "outputs": [
    {
     "data": {
      "text/html": [
       "<div>\n",
       "<style scoped>\n",
       "    .dataframe tbody tr th:only-of-type {\n",
       "        vertical-align: middle;\n",
       "    }\n",
       "\n",
       "    .dataframe tbody tr th {\n",
       "        vertical-align: top;\n",
       "    }\n",
       "\n",
       "    .dataframe thead th {\n",
       "        text-align: right;\n",
       "    }\n",
       "</style>\n",
       "<table border=\"1\" class=\"dataframe\">\n",
       "  <thead>\n",
       "    <tr style=\"text-align: right;\">\n",
       "      <th></th>\n",
       "      <th>员工姓名</th>\n",
       "      <th>基本工资</th>\n",
       "      <th>销售业绩</th>\n",
       "      <th>销售提成</th>\n",
       "      <th>应发工资</th>\n",
       "      <th>出勤天数</th>\n",
       "      <th>a1</th>\n",
       "      <th>a2</th>\n",
       "      <th>a3</th>\n",
       "    </tr>\n",
       "  </thead>\n",
       "  <tbody>\n",
       "    <tr>\n",
       "      <td>0</td>\n",
       "      <td>小明</td>\n",
       "      <td>3500</td>\n",
       "      <td>8000</td>\n",
       "      <td>400.0</td>\n",
       "      <td>3900.0</td>\n",
       "      <td>24</td>\n",
       "      <td>1</td>\n",
       "      <td>4</td>\n",
       "      <td>7</td>\n",
       "    </tr>\n",
       "    <tr>\n",
       "      <td>1</td>\n",
       "      <td>小李</td>\n",
       "      <td>4000</td>\n",
       "      <td>12000</td>\n",
       "      <td>600.0</td>\n",
       "      <td>4600.0</td>\n",
       "      <td>22</td>\n",
       "      <td>2</td>\n",
       "      <td>5</td>\n",
       "      <td>8</td>\n",
       "    </tr>\n",
       "    <tr>\n",
       "      <td>2</td>\n",
       "      <td>小红</td>\n",
       "      <td>4500</td>\n",
       "      <td>6000</td>\n",
       "      <td>300.0</td>\n",
       "      <td>4800.0</td>\n",
       "      <td>23</td>\n",
       "      <td>3</td>\n",
       "      <td>6</td>\n",
       "      <td>9</td>\n",
       "    </tr>\n",
       "  </tbody>\n",
       "</table>\n",
       "</div>"
      ],
      "text/plain": [
       "  员工姓名  基本工资   销售业绩   销售提成    应发工资  出勤天数  a1  a2  a3\n",
       "0   小明  3500   8000  400.0  3900.0    24   1   4   7\n",
       "1   小李  4000  12000  600.0  4600.0    22   2   5   8\n",
       "2   小红  4500   6000  300.0  4800.0    23   3   6   9"
      ]
     },
     "execution_count": 239,
     "metadata": {},
     "output_type": "execute_result"
    }
   ],
   "source": [
    "df['a1'] = [1, 2, 3]\n",
    "df['a2'] = [4, 5, 6]\n",
    "df['a3'] = [7, 8, 9]\n",
    "df"
   ]
  },
  {
   "cell_type": "code",
   "execution_count": 240,
   "metadata": {},
   "outputs": [
    {
     "data": {
      "text/html": [
       "<div>\n",
       "<style scoped>\n",
       "    .dataframe tbody tr th:only-of-type {\n",
       "        vertical-align: middle;\n",
       "    }\n",
       "\n",
       "    .dataframe tbody tr th {\n",
       "        vertical-align: top;\n",
       "    }\n",
       "\n",
       "    .dataframe thead th {\n",
       "        text-align: right;\n",
       "    }\n",
       "</style>\n",
       "<table border=\"1\" class=\"dataframe\">\n",
       "  <thead>\n",
       "    <tr style=\"text-align: right;\">\n",
       "      <th></th>\n",
       "      <th>员工姓名</th>\n",
       "      <th>基本工资</th>\n",
       "      <th>销售业绩</th>\n",
       "      <th>销售提成</th>\n",
       "      <th>应发工资</th>\n",
       "      <th>出勤天数</th>\n",
       "      <th>a2</th>\n",
       "      <th>a3</th>\n",
       "    </tr>\n",
       "  </thead>\n",
       "  <tbody>\n",
       "    <tr>\n",
       "      <td>0</td>\n",
       "      <td>小明</td>\n",
       "      <td>3500</td>\n",
       "      <td>8000</td>\n",
       "      <td>400.0</td>\n",
       "      <td>3900.0</td>\n",
       "      <td>24</td>\n",
       "      <td>4</td>\n",
       "      <td>7</td>\n",
       "    </tr>\n",
       "    <tr>\n",
       "      <td>1</td>\n",
       "      <td>小李</td>\n",
       "      <td>4000</td>\n",
       "      <td>12000</td>\n",
       "      <td>600.0</td>\n",
       "      <td>4600.0</td>\n",
       "      <td>22</td>\n",
       "      <td>5</td>\n",
       "      <td>8</td>\n",
       "    </tr>\n",
       "    <tr>\n",
       "      <td>2</td>\n",
       "      <td>小红</td>\n",
       "      <td>4500</td>\n",
       "      <td>6000</td>\n",
       "      <td>300.0</td>\n",
       "      <td>4800.0</td>\n",
       "      <td>23</td>\n",
       "      <td>6</td>\n",
       "      <td>9</td>\n",
       "    </tr>\n",
       "  </tbody>\n",
       "</table>\n",
       "</div>"
      ],
      "text/plain": [
       "  员工姓名  基本工资   销售业绩   销售提成    应发工资  出勤天数  a2  a3\n",
       "0   小明  3500   8000  400.0  3900.0    24   4   7\n",
       "1   小李  4000  12000  600.0  4600.0    22   5   8\n",
       "2   小红  4500   6000  300.0  4800.0    23   6   9"
      ]
     },
     "execution_count": 240,
     "metadata": {},
     "output_type": "execute_result"
    }
   ],
   "source": [
    "df.drop(columns = 'a1')  #直接这样会返回新的表， 不会改变原来的表"
   ]
  },
  {
   "cell_type": "code",
   "execution_count": 241,
   "metadata": {},
   "outputs": [
    {
     "data": {
      "text/html": [
       "<div>\n",
       "<style scoped>\n",
       "    .dataframe tbody tr th:only-of-type {\n",
       "        vertical-align: middle;\n",
       "    }\n",
       "\n",
       "    .dataframe tbody tr th {\n",
       "        vertical-align: top;\n",
       "    }\n",
       "\n",
       "    .dataframe thead th {\n",
       "        text-align: right;\n",
       "    }\n",
       "</style>\n",
       "<table border=\"1\" class=\"dataframe\">\n",
       "  <thead>\n",
       "    <tr style=\"text-align: right;\">\n",
       "      <th></th>\n",
       "      <th>员工姓名</th>\n",
       "      <th>基本工资</th>\n",
       "      <th>销售业绩</th>\n",
       "      <th>销售提成</th>\n",
       "      <th>应发工资</th>\n",
       "      <th>出勤天数</th>\n",
       "      <th>a1</th>\n",
       "      <th>a2</th>\n",
       "      <th>a3</th>\n",
       "    </tr>\n",
       "  </thead>\n",
       "  <tbody>\n",
       "    <tr>\n",
       "      <td>0</td>\n",
       "      <td>小明</td>\n",
       "      <td>3500</td>\n",
       "      <td>8000</td>\n",
       "      <td>400.0</td>\n",
       "      <td>3900.0</td>\n",
       "      <td>24</td>\n",
       "      <td>1</td>\n",
       "      <td>4</td>\n",
       "      <td>7</td>\n",
       "    </tr>\n",
       "    <tr>\n",
       "      <td>1</td>\n",
       "      <td>小李</td>\n",
       "      <td>4000</td>\n",
       "      <td>12000</td>\n",
       "      <td>600.0</td>\n",
       "      <td>4600.0</td>\n",
       "      <td>22</td>\n",
       "      <td>2</td>\n",
       "      <td>5</td>\n",
       "      <td>8</td>\n",
       "    </tr>\n",
       "    <tr>\n",
       "      <td>2</td>\n",
       "      <td>小红</td>\n",
       "      <td>4500</td>\n",
       "      <td>6000</td>\n",
       "      <td>300.0</td>\n",
       "      <td>4800.0</td>\n",
       "      <td>23</td>\n",
       "      <td>3</td>\n",
       "      <td>6</td>\n",
       "      <td>9</td>\n",
       "    </tr>\n",
       "  </tbody>\n",
       "</table>\n",
       "</div>"
      ],
      "text/plain": [
       "  员工姓名  基本工资   销售业绩   销售提成    应发工资  出勤天数  a1  a2  a3\n",
       "0   小明  3500   8000  400.0  3900.0    24   1   4   7\n",
       "1   小李  4000  12000  600.0  4600.0    22   2   5   8\n",
       "2   小红  4500   6000  300.0  4800.0    23   3   6   9"
      ]
     },
     "execution_count": 241,
     "metadata": {},
     "output_type": "execute_result"
    }
   ],
   "source": [
    "df"
   ]
  },
  {
   "cell_type": "code",
   "execution_count": 242,
   "metadata": {},
   "outputs": [],
   "source": [
    "df.drop(columns = 'a1', inplace = True)"
   ]
  },
  {
   "cell_type": "code",
   "execution_count": 243,
   "metadata": {},
   "outputs": [
    {
     "data": {
      "text/html": [
       "<div>\n",
       "<style scoped>\n",
       "    .dataframe tbody tr th:only-of-type {\n",
       "        vertical-align: middle;\n",
       "    }\n",
       "\n",
       "    .dataframe tbody tr th {\n",
       "        vertical-align: top;\n",
       "    }\n",
       "\n",
       "    .dataframe thead th {\n",
       "        text-align: right;\n",
       "    }\n",
       "</style>\n",
       "<table border=\"1\" class=\"dataframe\">\n",
       "  <thead>\n",
       "    <tr style=\"text-align: right;\">\n",
       "      <th></th>\n",
       "      <th>员工姓名</th>\n",
       "      <th>基本工资</th>\n",
       "      <th>销售业绩</th>\n",
       "      <th>销售提成</th>\n",
       "      <th>应发工资</th>\n",
       "      <th>出勤天数</th>\n",
       "      <th>a2</th>\n",
       "      <th>a3</th>\n",
       "    </tr>\n",
       "  </thead>\n",
       "  <tbody>\n",
       "    <tr>\n",
       "      <td>0</td>\n",
       "      <td>小明</td>\n",
       "      <td>3500</td>\n",
       "      <td>8000</td>\n",
       "      <td>400.0</td>\n",
       "      <td>3900.0</td>\n",
       "      <td>24</td>\n",
       "      <td>4</td>\n",
       "      <td>7</td>\n",
       "    </tr>\n",
       "    <tr>\n",
       "      <td>1</td>\n",
       "      <td>小李</td>\n",
       "      <td>4000</td>\n",
       "      <td>12000</td>\n",
       "      <td>600.0</td>\n",
       "      <td>4600.0</td>\n",
       "      <td>22</td>\n",
       "      <td>5</td>\n",
       "      <td>8</td>\n",
       "    </tr>\n",
       "    <tr>\n",
       "      <td>2</td>\n",
       "      <td>小红</td>\n",
       "      <td>4500</td>\n",
       "      <td>6000</td>\n",
       "      <td>300.0</td>\n",
       "      <td>4800.0</td>\n",
       "      <td>23</td>\n",
       "      <td>6</td>\n",
       "      <td>9</td>\n",
       "    </tr>\n",
       "  </tbody>\n",
       "</table>\n",
       "</div>"
      ],
      "text/plain": [
       "  员工姓名  基本工资   销售业绩   销售提成    应发工资  出勤天数  a2  a3\n",
       "0   小明  3500   8000  400.0  3900.0    24   4   7\n",
       "1   小李  4000  12000  600.0  4600.0    22   5   8\n",
       "2   小红  4500   6000  300.0  4800.0    23   6   9"
      ]
     },
     "execution_count": 243,
     "metadata": {},
     "output_type": "execute_result"
    }
   ],
   "source": [
    "df"
   ]
  },
  {
   "cell_type": "code",
   "execution_count": 244,
   "metadata": {},
   "outputs": [],
   "source": [
    "df.drop(columns = ['a2', 'a3'], inplace = True)  # 删除多列就给columns传入一个包含列名的列表"
   ]
  },
  {
   "cell_type": "code",
   "execution_count": 245,
   "metadata": {},
   "outputs": [
    {
     "data": {
      "text/html": [
       "<div>\n",
       "<style scoped>\n",
       "    .dataframe tbody tr th:only-of-type {\n",
       "        vertical-align: middle;\n",
       "    }\n",
       "\n",
       "    .dataframe tbody tr th {\n",
       "        vertical-align: top;\n",
       "    }\n",
       "\n",
       "    .dataframe thead th {\n",
       "        text-align: right;\n",
       "    }\n",
       "</style>\n",
       "<table border=\"1\" class=\"dataframe\">\n",
       "  <thead>\n",
       "    <tr style=\"text-align: right;\">\n",
       "      <th></th>\n",
       "      <th>员工姓名</th>\n",
       "      <th>基本工资</th>\n",
       "      <th>销售业绩</th>\n",
       "      <th>销售提成</th>\n",
       "      <th>应发工资</th>\n",
       "      <th>出勤天数</th>\n",
       "    </tr>\n",
       "  </thead>\n",
       "  <tbody>\n",
       "    <tr>\n",
       "      <td>0</td>\n",
       "      <td>小明</td>\n",
       "      <td>3500</td>\n",
       "      <td>8000</td>\n",
       "      <td>400.0</td>\n",
       "      <td>3900.0</td>\n",
       "      <td>24</td>\n",
       "    </tr>\n",
       "    <tr>\n",
       "      <td>1</td>\n",
       "      <td>小李</td>\n",
       "      <td>4000</td>\n",
       "      <td>12000</td>\n",
       "      <td>600.0</td>\n",
       "      <td>4600.0</td>\n",
       "      <td>22</td>\n",
       "    </tr>\n",
       "    <tr>\n",
       "      <td>2</td>\n",
       "      <td>小红</td>\n",
       "      <td>4500</td>\n",
       "      <td>6000</td>\n",
       "      <td>300.0</td>\n",
       "      <td>4800.0</td>\n",
       "      <td>23</td>\n",
       "    </tr>\n",
       "  </tbody>\n",
       "</table>\n",
       "</div>"
      ],
      "text/plain": [
       "  员工姓名  基本工资   销售业绩   销售提成    应发工资  出勤天数\n",
       "0   小明  3500   8000  400.0  3900.0    24\n",
       "1   小李  4000  12000  600.0  4600.0    22\n",
       "2   小红  4500   6000  300.0  4800.0    23"
      ]
     },
     "execution_count": 245,
     "metadata": {},
     "output_type": "execute_result"
    }
   ],
   "source": [
    "df"
   ]
  },
  {
   "cell_type": "markdown",
   "metadata": {},
   "source": [
    "## 修改列"
   ]
  },
  {
   "cell_type": "markdown",
   "metadata": {},
   "source": [
    "### 修改列的值 df[要修改的列] = 新值"
   ]
  },
  {
   "cell_type": "code",
   "execution_count": 246,
   "metadata": {},
   "outputs": [
    {
     "data": {
      "text/html": [
       "<div>\n",
       "<style scoped>\n",
       "    .dataframe tbody tr th:only-of-type {\n",
       "        vertical-align: middle;\n",
       "    }\n",
       "\n",
       "    .dataframe tbody tr th {\n",
       "        vertical-align: top;\n",
       "    }\n",
       "\n",
       "    .dataframe thead th {\n",
       "        text-align: right;\n",
       "    }\n",
       "</style>\n",
       "<table border=\"1\" class=\"dataframe\">\n",
       "  <thead>\n",
       "    <tr style=\"text-align: right;\">\n",
       "      <th></th>\n",
       "      <th>员工姓名</th>\n",
       "      <th>基本工资</th>\n",
       "      <th>销售业绩</th>\n",
       "      <th>销售提成</th>\n",
       "      <th>应发工资</th>\n",
       "      <th>出勤天数</th>\n",
       "    </tr>\n",
       "  </thead>\n",
       "  <tbody>\n",
       "    <tr>\n",
       "      <td>0</td>\n",
       "      <td>小明</td>\n",
       "      <td>3500</td>\n",
       "      <td>8000</td>\n",
       "      <td>400.0</td>\n",
       "      <td>3900.0</td>\n",
       "      <td>24</td>\n",
       "    </tr>\n",
       "    <tr>\n",
       "      <td>1</td>\n",
       "      <td>小李</td>\n",
       "      <td>4000</td>\n",
       "      <td>12000</td>\n",
       "      <td>600.0</td>\n",
       "      <td>4600.0</td>\n",
       "      <td>22</td>\n",
       "    </tr>\n",
       "    <tr>\n",
       "      <td>2</td>\n",
       "      <td>小红</td>\n",
       "      <td>4500</td>\n",
       "      <td>6000</td>\n",
       "      <td>300.0</td>\n",
       "      <td>4800.0</td>\n",
       "      <td>23</td>\n",
       "    </tr>\n",
       "  </tbody>\n",
       "</table>\n",
       "</div>"
      ],
      "text/plain": [
       "  员工姓名  基本工资   销售业绩   销售提成    应发工资  出勤天数\n",
       "0   小明  3500   8000  400.0  3900.0    24\n",
       "1   小李  4000  12000  600.0  4600.0    22\n",
       "2   小红  4500   6000  300.0  4800.0    23"
      ]
     },
     "execution_count": 246,
     "metadata": {},
     "output_type": "execute_result"
    }
   ],
   "source": [
    "df"
   ]
  },
  {
   "cell_type": "markdown",
   "metadata": {},
   "source": [
    "**比如， 现在老板把业绩的提成从5%升到10%**"
   ]
  },
  {
   "cell_type": "code",
   "execution_count": 247,
   "metadata": {},
   "outputs": [],
   "source": [
    "df['销售提成'] = df.销售业绩*0.1"
   ]
  },
  {
   "cell_type": "code",
   "execution_count": 248,
   "metadata": {},
   "outputs": [
    {
     "data": {
      "text/html": [
       "<div>\n",
       "<style scoped>\n",
       "    .dataframe tbody tr th:only-of-type {\n",
       "        vertical-align: middle;\n",
       "    }\n",
       "\n",
       "    .dataframe tbody tr th {\n",
       "        vertical-align: top;\n",
       "    }\n",
       "\n",
       "    .dataframe thead th {\n",
       "        text-align: right;\n",
       "    }\n",
       "</style>\n",
       "<table border=\"1\" class=\"dataframe\">\n",
       "  <thead>\n",
       "    <tr style=\"text-align: right;\">\n",
       "      <th></th>\n",
       "      <th>员工姓名</th>\n",
       "      <th>基本工资</th>\n",
       "      <th>销售业绩</th>\n",
       "      <th>销售提成</th>\n",
       "      <th>应发工资</th>\n",
       "      <th>出勤天数</th>\n",
       "    </tr>\n",
       "  </thead>\n",
       "  <tbody>\n",
       "    <tr>\n",
       "      <td>0</td>\n",
       "      <td>小明</td>\n",
       "      <td>3500</td>\n",
       "      <td>8000</td>\n",
       "      <td>800.0</td>\n",
       "      <td>3900.0</td>\n",
       "      <td>24</td>\n",
       "    </tr>\n",
       "    <tr>\n",
       "      <td>1</td>\n",
       "      <td>小李</td>\n",
       "      <td>4000</td>\n",
       "      <td>12000</td>\n",
       "      <td>1200.0</td>\n",
       "      <td>4600.0</td>\n",
       "      <td>22</td>\n",
       "    </tr>\n",
       "    <tr>\n",
       "      <td>2</td>\n",
       "      <td>小红</td>\n",
       "      <td>4500</td>\n",
       "      <td>6000</td>\n",
       "      <td>600.0</td>\n",
       "      <td>4800.0</td>\n",
       "      <td>23</td>\n",
       "    </tr>\n",
       "  </tbody>\n",
       "</table>\n",
       "</div>"
      ],
      "text/plain": [
       "  员工姓名  基本工资   销售业绩    销售提成    应发工资  出勤天数\n",
       "0   小明  3500   8000   800.0  3900.0    24\n",
       "1   小李  4000  12000  1200.0  4600.0    22\n",
       "2   小红  4500   6000   600.0  4800.0    23"
      ]
     },
     "execution_count": 248,
     "metadata": {},
     "output_type": "execute_result"
    }
   ],
   "source": [
    "df"
   ]
  },
  {
   "cell_type": "markdown",
   "metadata": {},
   "source": [
    "### 修改列的名"
   ]
  },
  {
   "cell_type": "markdown",
   "metadata": {},
   "source": [
    "#### df.columns =  包含新列名的列表\n",
    "修改全部列的名字"
   ]
  },
  {
   "cell_type": "code",
   "execution_count": 249,
   "metadata": {},
   "outputs": [
    {
     "data": {
      "text/html": [
       "<div>\n",
       "<style scoped>\n",
       "    .dataframe tbody tr th:only-of-type {\n",
       "        vertical-align: middle;\n",
       "    }\n",
       "\n",
       "    .dataframe tbody tr th {\n",
       "        vertical-align: top;\n",
       "    }\n",
       "\n",
       "    .dataframe thead th {\n",
       "        text-align: right;\n",
       "    }\n",
       "</style>\n",
       "<table border=\"1\" class=\"dataframe\">\n",
       "  <thead>\n",
       "    <tr style=\"text-align: right;\">\n",
       "      <th></th>\n",
       "      <th>员工姓名</th>\n",
       "      <th>基本工资</th>\n",
       "      <th>销售业绩</th>\n",
       "      <th>销售提成</th>\n",
       "      <th>应发工资</th>\n",
       "      <th>出勤天数</th>\n",
       "    </tr>\n",
       "  </thead>\n",
       "  <tbody>\n",
       "    <tr>\n",
       "      <td>0</td>\n",
       "      <td>小明</td>\n",
       "      <td>3500</td>\n",
       "      <td>8000</td>\n",
       "      <td>800.0</td>\n",
       "      <td>3900.0</td>\n",
       "      <td>24</td>\n",
       "    </tr>\n",
       "    <tr>\n",
       "      <td>1</td>\n",
       "      <td>小李</td>\n",
       "      <td>4000</td>\n",
       "      <td>12000</td>\n",
       "      <td>1200.0</td>\n",
       "      <td>4600.0</td>\n",
       "      <td>22</td>\n",
       "    </tr>\n",
       "    <tr>\n",
       "      <td>2</td>\n",
       "      <td>小红</td>\n",
       "      <td>4500</td>\n",
       "      <td>6000</td>\n",
       "      <td>600.0</td>\n",
       "      <td>4800.0</td>\n",
       "      <td>23</td>\n",
       "    </tr>\n",
       "  </tbody>\n",
       "</table>\n",
       "</div>"
      ],
      "text/plain": [
       "  员工姓名  基本工资   销售业绩    销售提成    应发工资  出勤天数\n",
       "0   小明  3500   8000   800.0  3900.0    24\n",
       "1   小李  4000  12000  1200.0  4600.0    22\n",
       "2   小红  4500   6000   600.0  4800.0    23"
      ]
     },
     "execution_count": 249,
     "metadata": {},
     "output_type": "execute_result"
    }
   ],
   "source": [
    "df1 = df.copy()\n",
    "df1"
   ]
  },
  {
   "cell_type": "code",
   "execution_count": 250,
   "metadata": {},
   "outputs": [],
   "source": [
    "df1.columns = ['a', 'b', 'c', 'd', 'e', 'f']   # 直接在原列表上修改"
   ]
  },
  {
   "cell_type": "code",
   "execution_count": 251,
   "metadata": {},
   "outputs": [
    {
     "data": {
      "text/html": [
       "<div>\n",
       "<style scoped>\n",
       "    .dataframe tbody tr th:only-of-type {\n",
       "        vertical-align: middle;\n",
       "    }\n",
       "\n",
       "    .dataframe tbody tr th {\n",
       "        vertical-align: top;\n",
       "    }\n",
       "\n",
       "    .dataframe thead th {\n",
       "        text-align: right;\n",
       "    }\n",
       "</style>\n",
       "<table border=\"1\" class=\"dataframe\">\n",
       "  <thead>\n",
       "    <tr style=\"text-align: right;\">\n",
       "      <th></th>\n",
       "      <th>a</th>\n",
       "      <th>b</th>\n",
       "      <th>c</th>\n",
       "      <th>d</th>\n",
       "      <th>e</th>\n",
       "      <th>f</th>\n",
       "    </tr>\n",
       "  </thead>\n",
       "  <tbody>\n",
       "    <tr>\n",
       "      <td>0</td>\n",
       "      <td>小明</td>\n",
       "      <td>3500</td>\n",
       "      <td>8000</td>\n",
       "      <td>800.0</td>\n",
       "      <td>3900.0</td>\n",
       "      <td>24</td>\n",
       "    </tr>\n",
       "    <tr>\n",
       "      <td>1</td>\n",
       "      <td>小李</td>\n",
       "      <td>4000</td>\n",
       "      <td>12000</td>\n",
       "      <td>1200.0</td>\n",
       "      <td>4600.0</td>\n",
       "      <td>22</td>\n",
       "    </tr>\n",
       "    <tr>\n",
       "      <td>2</td>\n",
       "      <td>小红</td>\n",
       "      <td>4500</td>\n",
       "      <td>6000</td>\n",
       "      <td>600.0</td>\n",
       "      <td>4800.0</td>\n",
       "      <td>23</td>\n",
       "    </tr>\n",
       "  </tbody>\n",
       "</table>\n",
       "</div>"
      ],
      "text/plain": [
       "    a     b      c       d       e   f\n",
       "0  小明  3500   8000   800.0  3900.0  24\n",
       "1  小李  4000  12000  1200.0  4600.0  22\n",
       "2  小红  4500   6000   600.0  4800.0  23"
      ]
     },
     "execution_count": 251,
     "metadata": {},
     "output_type": "execute_result"
    }
   ],
   "source": [
    "df1"
   ]
  },
  {
   "cell_type": "markdown",
   "metadata": {},
   "source": [
    "#### df.rename()   \n",
    "单独修改某些列的名字"
   ]
  },
  {
   "cell_type": "code",
   "execution_count": 260,
   "metadata": {},
   "outputs": [
    {
     "data": {
      "text/html": [
       "<div>\n",
       "<style scoped>\n",
       "    .dataframe tbody tr th:only-of-type {\n",
       "        vertical-align: middle;\n",
       "    }\n",
       "\n",
       "    .dataframe tbody tr th {\n",
       "        vertical-align: top;\n",
       "    }\n",
       "\n",
       "    .dataframe thead th {\n",
       "        text-align: right;\n",
       "    }\n",
       "</style>\n",
       "<table border=\"1\" class=\"dataframe\">\n",
       "  <thead>\n",
       "    <tr style=\"text-align: right;\">\n",
       "      <th></th>\n",
       "      <th>员工姓名</th>\n",
       "      <th>基本工资</th>\n",
       "      <th>销售业绩</th>\n",
       "      <th>销售提成</th>\n",
       "      <th>应发工资</th>\n",
       "      <th>出勤天数</th>\n",
       "    </tr>\n",
       "  </thead>\n",
       "  <tbody>\n",
       "    <tr>\n",
       "      <td>0</td>\n",
       "      <td>小明</td>\n",
       "      <td>3500</td>\n",
       "      <td>8000</td>\n",
       "      <td>800.0</td>\n",
       "      <td>3900.0</td>\n",
       "      <td>24</td>\n",
       "    </tr>\n",
       "    <tr>\n",
       "      <td>1</td>\n",
       "      <td>小李</td>\n",
       "      <td>4000</td>\n",
       "      <td>12000</td>\n",
       "      <td>1200.0</td>\n",
       "      <td>4600.0</td>\n",
       "      <td>22</td>\n",
       "    </tr>\n",
       "    <tr>\n",
       "      <td>2</td>\n",
       "      <td>小红</td>\n",
       "      <td>4500</td>\n",
       "      <td>6000</td>\n",
       "      <td>600.0</td>\n",
       "      <td>4800.0</td>\n",
       "      <td>23</td>\n",
       "    </tr>\n",
       "  </tbody>\n",
       "</table>\n",
       "</div>"
      ],
      "text/plain": [
       "  员工姓名  基本工资   销售业绩    销售提成    应发工资  出勤天数\n",
       "0   小明  3500   8000   800.0  3900.0    24\n",
       "1   小李  4000  12000  1200.0  4600.0    22\n",
       "2   小红  4500   6000   600.0  4800.0    23"
      ]
     },
     "execution_count": 260,
     "metadata": {},
     "output_type": "execute_result"
    }
   ],
   "source": [
    "df2 = df.copy()\n",
    "df2"
   ]
  },
  {
   "cell_type": "markdown",
   "metadata": {},
   "source": [
    "比如把**应发工资**改变成**实发工资**"
   ]
  },
  {
   "cell_type": "code",
   "execution_count": 261,
   "metadata": {},
   "outputs": [],
   "source": [
    "df2.rename(columns = {'应发工资':'实发工资'}, inplace=True)"
   ]
  },
  {
   "cell_type": "code",
   "execution_count": 262,
   "metadata": {},
   "outputs": [
    {
     "data": {
      "text/html": [
       "<div>\n",
       "<style scoped>\n",
       "    .dataframe tbody tr th:only-of-type {\n",
       "        vertical-align: middle;\n",
       "    }\n",
       "\n",
       "    .dataframe tbody tr th {\n",
       "        vertical-align: top;\n",
       "    }\n",
       "\n",
       "    .dataframe thead th {\n",
       "        text-align: right;\n",
       "    }\n",
       "</style>\n",
       "<table border=\"1\" class=\"dataframe\">\n",
       "  <thead>\n",
       "    <tr style=\"text-align: right;\">\n",
       "      <th></th>\n",
       "      <th>员工姓名</th>\n",
       "      <th>基本工资</th>\n",
       "      <th>销售业绩</th>\n",
       "      <th>销售提成</th>\n",
       "      <th>实发工资</th>\n",
       "      <th>出勤天数</th>\n",
       "    </tr>\n",
       "  </thead>\n",
       "  <tbody>\n",
       "    <tr>\n",
       "      <td>0</td>\n",
       "      <td>小明</td>\n",
       "      <td>3500</td>\n",
       "      <td>8000</td>\n",
       "      <td>800.0</td>\n",
       "      <td>3900.0</td>\n",
       "      <td>24</td>\n",
       "    </tr>\n",
       "    <tr>\n",
       "      <td>1</td>\n",
       "      <td>小李</td>\n",
       "      <td>4000</td>\n",
       "      <td>12000</td>\n",
       "      <td>1200.0</td>\n",
       "      <td>4600.0</td>\n",
       "      <td>22</td>\n",
       "    </tr>\n",
       "    <tr>\n",
       "      <td>2</td>\n",
       "      <td>小红</td>\n",
       "      <td>4500</td>\n",
       "      <td>6000</td>\n",
       "      <td>600.0</td>\n",
       "      <td>4800.0</td>\n",
       "      <td>23</td>\n",
       "    </tr>\n",
       "  </tbody>\n",
       "</table>\n",
       "</div>"
      ],
      "text/plain": [
       "  员工姓名  基本工资   销售业绩    销售提成    实发工资  出勤天数\n",
       "0   小明  3500   8000   800.0  3900.0    24\n",
       "1   小李  4000  12000  1200.0  4600.0    22\n",
       "2   小红  4500   6000   600.0  4800.0    23"
      ]
     },
     "execution_count": 262,
     "metadata": {},
     "output_type": "execute_result"
    }
   ],
   "source": [
    "df2"
   ]
  },
  {
   "cell_type": "markdown",
   "metadata": {},
   "source": [
    "## 移动列"
   ]
  },
  {
   "cell_type": "markdown",
   "metadata": {},
   "source": [
    "### df.insert(要插入的索引位置, 列名， 该列的值)"
   ]
  },
  {
   "cell_type": "code",
   "execution_count": 274,
   "metadata": {},
   "outputs": [
    {
     "data": {
      "text/html": [
       "<div>\n",
       "<style scoped>\n",
       "    .dataframe tbody tr th:only-of-type {\n",
       "        vertical-align: middle;\n",
       "    }\n",
       "\n",
       "    .dataframe tbody tr th {\n",
       "        vertical-align: top;\n",
       "    }\n",
       "\n",
       "    .dataframe thead th {\n",
       "        text-align: right;\n",
       "    }\n",
       "</style>\n",
       "<table border=\"1\" class=\"dataframe\">\n",
       "  <thead>\n",
       "    <tr style=\"text-align: right;\">\n",
       "      <th></th>\n",
       "      <th>员工姓名</th>\n",
       "      <th>基本工资</th>\n",
       "      <th>销售业绩</th>\n",
       "      <th>销售提成</th>\n",
       "      <th>应发工资</th>\n",
       "      <th>出勤天数</th>\n",
       "    </tr>\n",
       "  </thead>\n",
       "  <tbody>\n",
       "    <tr>\n",
       "      <td>0</td>\n",
       "      <td>小明</td>\n",
       "      <td>3500</td>\n",
       "      <td>8000</td>\n",
       "      <td>800.0</td>\n",
       "      <td>3900.0</td>\n",
       "      <td>24</td>\n",
       "    </tr>\n",
       "    <tr>\n",
       "      <td>1</td>\n",
       "      <td>小李</td>\n",
       "      <td>4000</td>\n",
       "      <td>12000</td>\n",
       "      <td>1200.0</td>\n",
       "      <td>4600.0</td>\n",
       "      <td>22</td>\n",
       "    </tr>\n",
       "    <tr>\n",
       "      <td>2</td>\n",
       "      <td>小红</td>\n",
       "      <td>4500</td>\n",
       "      <td>6000</td>\n",
       "      <td>600.0</td>\n",
       "      <td>4800.0</td>\n",
       "      <td>23</td>\n",
       "    </tr>\n",
       "  </tbody>\n",
       "</table>\n",
       "</div>"
      ],
      "text/plain": [
       "  员工姓名  基本工资   销售业绩    销售提成    应发工资  出勤天数\n",
       "0   小明  3500   8000   800.0  3900.0    24\n",
       "1   小李  4000  12000  1200.0  4600.0    22\n",
       "2   小红  4500   6000   600.0  4800.0    23"
      ]
     },
     "execution_count": 274,
     "metadata": {},
     "output_type": "execute_result"
    }
   ],
   "source": [
    "df3 = df.copy()\n",
    "df3"
   ]
  },
  {
   "cell_type": "markdown",
   "metadata": {},
   "source": [
    "先新增一列   性别"
   ]
  },
  {
   "cell_type": "code",
   "execution_count": 275,
   "metadata": {},
   "outputs": [],
   "source": [
    "df3['性别'] = ['男', '男', '女']"
   ]
  },
  {
   "cell_type": "code",
   "execution_count": 276,
   "metadata": {},
   "outputs": [
    {
     "data": {
      "text/html": [
       "<div>\n",
       "<style scoped>\n",
       "    .dataframe tbody tr th:only-of-type {\n",
       "        vertical-align: middle;\n",
       "    }\n",
       "\n",
       "    .dataframe tbody tr th {\n",
       "        vertical-align: top;\n",
       "    }\n",
       "\n",
       "    .dataframe thead th {\n",
       "        text-align: right;\n",
       "    }\n",
       "</style>\n",
       "<table border=\"1\" class=\"dataframe\">\n",
       "  <thead>\n",
       "    <tr style=\"text-align: right;\">\n",
       "      <th></th>\n",
       "      <th>员工姓名</th>\n",
       "      <th>基本工资</th>\n",
       "      <th>销售业绩</th>\n",
       "      <th>销售提成</th>\n",
       "      <th>应发工资</th>\n",
       "      <th>出勤天数</th>\n",
       "      <th>性别</th>\n",
       "    </tr>\n",
       "  </thead>\n",
       "  <tbody>\n",
       "    <tr>\n",
       "      <td>0</td>\n",
       "      <td>小明</td>\n",
       "      <td>3500</td>\n",
       "      <td>8000</td>\n",
       "      <td>800.0</td>\n",
       "      <td>3900.0</td>\n",
       "      <td>24</td>\n",
       "      <td>男</td>\n",
       "    </tr>\n",
       "    <tr>\n",
       "      <td>1</td>\n",
       "      <td>小李</td>\n",
       "      <td>4000</td>\n",
       "      <td>12000</td>\n",
       "      <td>1200.0</td>\n",
       "      <td>4600.0</td>\n",
       "      <td>22</td>\n",
       "      <td>男</td>\n",
       "    </tr>\n",
       "    <tr>\n",
       "      <td>2</td>\n",
       "      <td>小红</td>\n",
       "      <td>4500</td>\n",
       "      <td>6000</td>\n",
       "      <td>600.0</td>\n",
       "      <td>4800.0</td>\n",
       "      <td>23</td>\n",
       "      <td>女</td>\n",
       "    </tr>\n",
       "  </tbody>\n",
       "</table>\n",
       "</div>"
      ],
      "text/plain": [
       "  员工姓名  基本工资   销售业绩    销售提成    应发工资  出勤天数 性别\n",
       "0   小明  3500   8000   800.0  3900.0    24  男\n",
       "1   小李  4000  12000  1200.0  4600.0    22  男\n",
       "2   小红  4500   6000   600.0  4800.0    23  女"
      ]
     },
     "execution_count": 276,
     "metadata": {},
     "output_type": "execute_result"
    }
   ],
   "source": [
    "df3"
   ]
  },
  {
   "cell_type": "code",
   "execution_count": 277,
   "metadata": {},
   "outputs": [],
   "source": [
    "df3.insert(1,  '性别', df3.pop('性别'))"
   ]
  },
  {
   "cell_type": "code",
   "execution_count": 278,
   "metadata": {},
   "outputs": [
    {
     "data": {
      "text/html": [
       "<div>\n",
       "<style scoped>\n",
       "    .dataframe tbody tr th:only-of-type {\n",
       "        vertical-align: middle;\n",
       "    }\n",
       "\n",
       "    .dataframe tbody tr th {\n",
       "        vertical-align: top;\n",
       "    }\n",
       "\n",
       "    .dataframe thead th {\n",
       "        text-align: right;\n",
       "    }\n",
       "</style>\n",
       "<table border=\"1\" class=\"dataframe\">\n",
       "  <thead>\n",
       "    <tr style=\"text-align: right;\">\n",
       "      <th></th>\n",
       "      <th>员工姓名</th>\n",
       "      <th>性别</th>\n",
       "      <th>基本工资</th>\n",
       "      <th>销售业绩</th>\n",
       "      <th>销售提成</th>\n",
       "      <th>应发工资</th>\n",
       "      <th>出勤天数</th>\n",
       "    </tr>\n",
       "  </thead>\n",
       "  <tbody>\n",
       "    <tr>\n",
       "      <td>0</td>\n",
       "      <td>小明</td>\n",
       "      <td>男</td>\n",
       "      <td>3500</td>\n",
       "      <td>8000</td>\n",
       "      <td>800.0</td>\n",
       "      <td>3900.0</td>\n",
       "      <td>24</td>\n",
       "    </tr>\n",
       "    <tr>\n",
       "      <td>1</td>\n",
       "      <td>小李</td>\n",
       "      <td>男</td>\n",
       "      <td>4000</td>\n",
       "      <td>12000</td>\n",
       "      <td>1200.0</td>\n",
       "      <td>4600.0</td>\n",
       "      <td>22</td>\n",
       "    </tr>\n",
       "    <tr>\n",
       "      <td>2</td>\n",
       "      <td>小红</td>\n",
       "      <td>女</td>\n",
       "      <td>4500</td>\n",
       "      <td>6000</td>\n",
       "      <td>600.0</td>\n",
       "      <td>4800.0</td>\n",
       "      <td>23</td>\n",
       "    </tr>\n",
       "  </tbody>\n",
       "</table>\n",
       "</div>"
      ],
      "text/plain": [
       "  员工姓名 性别  基本工资   销售业绩    销售提成    应发工资  出勤天数\n",
       "0   小明  男  3500   8000   800.0  3900.0    24\n",
       "1   小李  男  4000  12000  1200.0  4600.0    22\n",
       "2   小红  女  4500   6000   600.0  4800.0    23"
      ]
     },
     "execution_count": 278,
     "metadata": {},
     "output_type": "execute_result"
    }
   ],
   "source": [
    "df3"
   ]
  },
  {
   "cell_type": "markdown",
   "metadata": {},
   "source": [
    "可以通过这种方式来移动列"
   ]
  },
  {
   "cell_type": "code",
   "execution_count": null,
   "metadata": {},
   "outputs": [],
   "source": []
  },
  {
   "cell_type": "code",
   "execution_count": null,
   "metadata": {},
   "outputs": [],
   "source": []
  },
  {
   "cell_type": "code",
   "execution_count": null,
   "metadata": {},
   "outputs": [],
   "source": []
  },
  {
   "cell_type": "code",
   "execution_count": null,
   "metadata": {},
   "outputs": [],
   "source": []
  }
 ],
 "metadata": {
  "kernelspec": {
   "display_name": "Python 3",
   "language": "python",
   "name": "python3"
  },
  "language_info": {
   "codemirror_mode": {
    "name": "ipython",
    "version": 3
   },
   "file_extension": ".py",
   "mimetype": "text/x-python",
   "name": "python",
   "nbconvert_exporter": "python",
   "pygments_lexer": "ipython3",
   "version": "3.7.4"
  },
  "toc": {
   "base_numbering": 1,
   "nav_menu": {},
   "number_sections": true,
   "sideBar": true,
   "skip_h1_title": false,
   "title_cell": "Table of Contents",
   "title_sidebar": "Contents",
   "toc_cell": true,
   "toc_position": {
    "height": "calc(100% - 180px)",
    "left": "10px",
    "top": "150px",
    "width": "208.885px"
   },
   "toc_section_display": true,
   "toc_window_display": true
  }
 },
 "nbformat": 4,
 "nbformat_minor": 2
}
